{
 "cells": [
  {
   "cell_type": "markdown",
   "metadata": {
    "toc": true
   },
   "source": [
    "<h1>Содержание<span class=\"tocSkip\"></span></h1>\n",
    "<div class=\"toc\"><ul class=\"toc-item\"><li><span><a href=\"#Подготовка-данных\" data-toc-modified-id=\"Подготовка-данных-1\"><span class=\"toc-item-num\">1&nbsp;&nbsp;</span>Подготовка данных</a></span><ul class=\"toc-item\"><li><span><a href=\"#Легенда:\" data-toc-modified-id=\"Легенда:-1.1\"><span class=\"toc-item-num\">1.1&nbsp;&nbsp;</span>Легенда:</a></span></li></ul></li><li><span><a href=\"#Исследование-задачи\" data-toc-modified-id=\"Исследование-задачи-2\"><span class=\"toc-item-num\">2&nbsp;&nbsp;</span>Исследование задачи</a></span><ul class=\"toc-item\"><li><span><a href=\"#Баланс-данных\" data-toc-modified-id=\"Баланс-данных-2.1\"><span class=\"toc-item-num\">2.1&nbsp;&nbsp;</span>Баланс данных</a></span></li><li><span><a href=\"#Обучение-моделей\" data-toc-modified-id=\"Обучение-моделей-2.2\"><span class=\"toc-item-num\">2.2&nbsp;&nbsp;</span>Обучение моделей</a></span><ul class=\"toc-item\"><li><span><a href=\"#Обучим-модель-случайного-дерева-с-перебором-глубины,-найдем-гиперпараметры-с-наибольшей-метрикой-f1-(среднее-гармоническое-полноты-и-точности).\" data-toc-modified-id=\"Обучим-модель-случайного-дерева-с-перебором-глубины,-найдем-гиперпараметры-с-наибольшей-метрикой-f1-(среднее-гармоническое-полноты-и-точности).-2.2.1\"><span class=\"toc-item-num\">2.2.1&nbsp;&nbsp;</span>Обучим модель случайного дерева с перебором глубины, найдем гиперпараметры с наибольшей метрикой f1 (среднее гармоническое полноты и точности).</a></span></li><li><span><a href=\"#Обучим-модель-случайного-леса-с-перебором-гиперпараметров,-которые-дают-наибольшую-метрику-f1--(среднее-гармоническое-полноты-и-точности).\" data-toc-modified-id=\"Обучим-модель-случайного-леса-с-перебором-гиперпараметров,-которые-дают-наибольшую-метрику-f1--(среднее-гармоническое-полноты-и-точности).-2.2.2\"><span class=\"toc-item-num\">2.2.2&nbsp;&nbsp;</span>Обучим модель случайного леса с перебором гиперпараметров, которые дают наибольшую метрику f1  (среднее гармоническое полноты и точности).</a></span></li><li><span><a href=\"#Обучение-и-оценка-метрик-с-помощью-модели-Логистической-регрессии\" data-toc-modified-id=\"Обучение-и-оценка-метрик-с-помощью-модели-Логистической-регрессии-2.2.3\"><span class=\"toc-item-num\">2.2.3&nbsp;&nbsp;</span>Обучение и оценка метрик с помощью модели Логистической регрессии</a></span></li></ul></li><li><span><a href=\"#Вывод:\" data-toc-modified-id=\"Вывод:-2.3\"><span class=\"toc-item-num\">2.3&nbsp;&nbsp;</span>Вывод:</a></span></li></ul></li><li><span><a href=\"#Борьба-с-дисбалансом\" data-toc-modified-id=\"Борьба-с-дисбалансом-3\"><span class=\"toc-item-num\">3&nbsp;&nbsp;</span>Борьба с дисбалансом</a></span><ul class=\"toc-item\"><li><span><a href=\"#Обучение-моделей-с-параметром-автоматической-регулировки-весов.\" data-toc-modified-id=\"Обучение-моделей-с-параметром-автоматической-регулировки-весов.-3.1\"><span class=\"toc-item-num\">3.1&nbsp;&nbsp;</span>Обучение моделей с параметром автоматической регулировки весов.</a></span><ul class=\"toc-item\"><li><span><a href=\"#Модель-случайного-дерева\" data-toc-modified-id=\"Модель-случайного-дерева-3.1.1\"><span class=\"toc-item-num\">3.1.1&nbsp;&nbsp;</span>Модель случайного дерева</a></span></li><li><span><a href=\"#Модель-случайного-леса\" data-toc-modified-id=\"Модель-случайного-леса-3.1.2\"><span class=\"toc-item-num\">3.1.2&nbsp;&nbsp;</span>Модель случайного леса</a></span></li><li><span><a href=\"#Модель:-логистическая-регрессия\" data-toc-modified-id=\"Модель:-логистическая-регрессия-3.1.3\"><span class=\"toc-item-num\">3.1.3&nbsp;&nbsp;</span>Модель: логистическая регрессия</a></span></li><li><span><a href=\"#Вывод:\" data-toc-modified-id=\"Вывод:-3.1.4\"><span class=\"toc-item-num\">3.1.4&nbsp;&nbsp;</span>Вывод:</a></span></li></ul></li><li><span><a href=\"#Upsamling\" data-toc-modified-id=\"Upsamling-3.2\"><span class=\"toc-item-num\">3.2&nbsp;&nbsp;</span>Upsamling</a></span><ul class=\"toc-item\"><li><span><a href=\"#Модель-случайного-дерева\" data-toc-modified-id=\"Модель-случайного-дерева-3.2.1\"><span class=\"toc-item-num\">3.2.1&nbsp;&nbsp;</span>Модель случайного дерева</a></span></li><li><span><a href=\"#Модель-случайного-леса\" data-toc-modified-id=\"Модель-случайного-леса-3.2.2\"><span class=\"toc-item-num\">3.2.2&nbsp;&nbsp;</span>Модель случайного леса</a></span></li><li><span><a href=\"#Модель-логистическая-регрессия\" data-toc-modified-id=\"Модель-логистическая-регрессия-3.2.3\"><span class=\"toc-item-num\">3.2.3&nbsp;&nbsp;</span>Модель логистическая регрессия</a></span></li><li><span><a href=\"#Вывод:\" data-toc-modified-id=\"Вывод:-3.2.4\"><span class=\"toc-item-num\">3.2.4&nbsp;&nbsp;</span>Вывод:</a></span></li></ul></li><li><span><a href=\"#Downsampling\" data-toc-modified-id=\"Downsampling-3.3\"><span class=\"toc-item-num\">3.3&nbsp;&nbsp;</span>Downsampling</a></span><ul class=\"toc-item\"><li><span><a href=\"#Модель-случайного-дерева\" data-toc-modified-id=\"Модель-случайного-дерева-3.3.1\"><span class=\"toc-item-num\">3.3.1&nbsp;&nbsp;</span>Модель случайного дерева</a></span></li><li><span><a href=\"#Модель-случайного-леса\" data-toc-modified-id=\"Модель-случайного-леса-3.3.2\"><span class=\"toc-item-num\">3.3.2&nbsp;&nbsp;</span>Модель случайного леса</a></span></li><li><span><a href=\"#Модель-логистическая-регрессия\" data-toc-modified-id=\"Модель-логистическая-регрессия-3.3.3\"><span class=\"toc-item-num\">3.3.3&nbsp;&nbsp;</span>Модель логистическая регрессия</a></span></li><li><span><a href=\"#Вывод:\" data-toc-modified-id=\"Вывод:-3.3.4\"><span class=\"toc-item-num\">3.3.4&nbsp;&nbsp;</span>Вывод:</a></span></li></ul></li><li><span><a href=\"#Вывод\" data-toc-modified-id=\"Вывод-3.4\"><span class=\"toc-item-num\">3.4&nbsp;&nbsp;</span>Вывод</a></span></li></ul></li><li><span><a href=\"#Визуализация-AUC-ROC\" data-toc-modified-id=\"Визуализация-AUC-ROC-4\"><span class=\"toc-item-num\">4&nbsp;&nbsp;</span>Визуализация AUC-ROC</a></span></li><li><span><a href=\"#Тестирование-модели\" data-toc-modified-id=\"Тестирование-модели-5\"><span class=\"toc-item-num\">5&nbsp;&nbsp;</span>Тестирование модели</a></span><ul class=\"toc-item\"><li><span><a href=\"#Обучим-модель\" data-toc-modified-id=\"Обучим-модель-5.1\"><span class=\"toc-item-num\">5.1&nbsp;&nbsp;</span>Обучим модель</a></span></li><li><span><a href=\"#Проверим-на-адекватность\" data-toc-modified-id=\"Проверим-на-адекватность-5.2\"><span class=\"toc-item-num\">5.2&nbsp;&nbsp;</span>Проверим на адекватность</a></span><ul class=\"toc-item\"><li><span><a href=\"#Вывод:\" data-toc-modified-id=\"Вывод:-5.2.1\"><span class=\"toc-item-num\">5.2.1&nbsp;&nbsp;</span>Вывод:</a></span></li></ul></li><li><span><a href=\"#Тестируем-модель\" data-toc-modified-id=\"Тестируем-модель-5.3\"><span class=\"toc-item-num\">5.3&nbsp;&nbsp;</span>Тестируем модель</a></span></li><li><span><a href=\"#Вывод:\" data-toc-modified-id=\"Вывод:-5.4\"><span class=\"toc-item-num\">5.4&nbsp;&nbsp;</span>Вывод:</a></span></li></ul></li><li><span><a href=\"#Чек-лист-готовности-проекта\" data-toc-modified-id=\"Чек-лист-готовности-проекта-6\"><span class=\"toc-item-num\">6&nbsp;&nbsp;</span>Чек-лист готовности проекта</a></span></li></ul></div>"
   ]
  },
  {
   "cell_type": "markdown",
   "metadata": {},
   "source": [
    "# Отток клиентов"
   ]
  },
  {
   "cell_type": "markdown",
   "metadata": {},
   "source": [
    "Из «Бета-Банка» стали уходить клиенты. Каждый месяц. Немного, но заметно. Банковские маркетологи посчитали: сохранять текущих клиентов дешевле, чем привлекать новых.\n",
    "\n",
    "Нужно спрогнозировать, уйдёт клиент из банка в ближайшее время или нет. Вам предоставлены исторические данные о поведении клиентов и расторжении договоров с банком. \n",
    "\n",
    "Постройте модель с предельно большим значением *F1*-меры. Чтобы сдать проект успешно, нужно довести метрику до 0.59. Проверьте *F1*-меру на тестовой выборке самостоятельно.\n",
    "\n",
    "Дополнительно измеряйте *AUC-ROC*, сравнивайте её значение с *F1*-мерой.\n",
    "\n",
    "Источник данных: [https://www.kaggle.com/barelydedicated/bank-customer-churn-modeling](https://www.kaggle.com/barelydedicated/bank-customer-churn-modeling)"
   ]
  },
  {
   "cell_type": "markdown",
   "metadata": {},
   "source": [
    "## Подготовка данных"
   ]
  },
  {
   "cell_type": "code",
   "execution_count": 1,
   "metadata": {},
   "outputs": [],
   "source": [
    "import pandas as pd\n",
    "import matplotlib.pyplot as plt\n",
    "\n",
    "from sklearn.tree import DecisionTreeClassifier\n",
    "from sklearn.ensemble import RandomForestClassifier\n",
    "from sklearn.linear_model import LogisticRegression\n",
    "\n",
    "from sklearn.model_selection import train_test_split\n",
    "from sklearn.preprocessing import StandardScaler\n",
    "from sklearn.utils import shuffle\n",
    "\n",
    "from sklearn.metrics import accuracy_score, precision_score, recall_score, roc_auc_score, roc_curve, f1_score\n",
    "\n",
    "import warnings\n",
    "warnings.filterwarnings('ignore')"
   ]
  },
  {
   "cell_type": "code",
   "execution_count": 2,
   "metadata": {},
   "outputs": [],
   "source": [
    "df = pd.read_csv('/datasets/Churn.csv')"
   ]
  },
  {
   "cell_type": "code",
   "execution_count": 3,
   "metadata": {},
   "outputs": [
    {
     "name": "stdout",
     "output_type": "stream",
     "text": [
      "<class 'pandas.core.frame.DataFrame'>\n",
      "RangeIndex: 10000 entries, 0 to 9999\n",
      "Data columns (total 14 columns):\n",
      " #   Column           Non-Null Count  Dtype  \n",
      "---  ------           --------------  -----  \n",
      " 0   RowNumber        10000 non-null  int64  \n",
      " 1   CustomerId       10000 non-null  int64  \n",
      " 2   Surname          10000 non-null  object \n",
      " 3   CreditScore      10000 non-null  int64  \n",
      " 4   Geography        10000 non-null  object \n",
      " 5   Gender           10000 non-null  object \n",
      " 6   Age              10000 non-null  int64  \n",
      " 7   Tenure           9091 non-null   float64\n",
      " 8   Balance          10000 non-null  float64\n",
      " 9   NumOfProducts    10000 non-null  int64  \n",
      " 10  HasCrCard        10000 non-null  int64  \n",
      " 11  IsActiveMember   10000 non-null  int64  \n",
      " 12  EstimatedSalary  10000 non-null  float64\n",
      " 13  Exited           10000 non-null  int64  \n",
      "dtypes: float64(3), int64(8), object(3)\n",
      "memory usage: 1.1+ MB\n"
     ]
    }
   ],
   "source": [
    "df.info()"
   ]
  },
  {
   "cell_type": "markdown",
   "metadata": {},
   "source": [
    "### Легенда:"
   ]
  },
  {
   "cell_type": "markdown",
   "metadata": {},
   "source": [
    "* **RowNumber** — индекс строки в данных\n",
    "* **CustomerId** — уникальный идентификатор клиента\n",
    "* **Surname** — фамилия\n",
    "* **CreditScore** — кредитный рейтинг\n",
    "* **Geography** — страна проживания\n",
    "* **Gender** — пол\n",
    "* **Age** — возраст\n",
    "* **Tenure** — количество недвижимости у клиента\n",
    "* **Balance** — баланс на счёте\n",
    "* **NumOfProducts** — количество продуктов банка, используемых клиентом\n",
    "* **HasCrCard** — наличие кредитной карты\n",
    "* **IsActiveMember** — активность клиента\n",
    "* **EstimatedSalary** — предполагаемая зарплата\n",
    "* **Exited** — Целевой признак, факт ухода клиента"
   ]
  },
  {
   "cell_type": "code",
   "execution_count": 4,
   "metadata": {},
   "outputs": [
    {
     "data": {
      "text/html": [
       "<div>\n",
       "<style scoped>\n",
       "    .dataframe tbody tr th:only-of-type {\n",
       "        vertical-align: middle;\n",
       "    }\n",
       "\n",
       "    .dataframe tbody tr th {\n",
       "        vertical-align: top;\n",
       "    }\n",
       "\n",
       "    .dataframe thead th {\n",
       "        text-align: right;\n",
       "    }\n",
       "</style>\n",
       "<table border=\"1\" class=\"dataframe\">\n",
       "  <thead>\n",
       "    <tr style=\"text-align: right;\">\n",
       "      <th></th>\n",
       "      <th>RowNumber</th>\n",
       "      <th>CustomerId</th>\n",
       "      <th>Surname</th>\n",
       "      <th>CreditScore</th>\n",
       "      <th>Geography</th>\n",
       "      <th>Gender</th>\n",
       "      <th>Age</th>\n",
       "      <th>Tenure</th>\n",
       "      <th>Balance</th>\n",
       "      <th>NumOfProducts</th>\n",
       "      <th>HasCrCard</th>\n",
       "      <th>IsActiveMember</th>\n",
       "      <th>EstimatedSalary</th>\n",
       "      <th>Exited</th>\n",
       "    </tr>\n",
       "  </thead>\n",
       "  <tbody>\n",
       "    <tr>\n",
       "      <th>0</th>\n",
       "      <td>1</td>\n",
       "      <td>15634602</td>\n",
       "      <td>Hargrave</td>\n",
       "      <td>619</td>\n",
       "      <td>France</td>\n",
       "      <td>Female</td>\n",
       "      <td>42</td>\n",
       "      <td>2.0</td>\n",
       "      <td>0.00</td>\n",
       "      <td>1</td>\n",
       "      <td>1</td>\n",
       "      <td>1</td>\n",
       "      <td>101348.88</td>\n",
       "      <td>1</td>\n",
       "    </tr>\n",
       "    <tr>\n",
       "      <th>1</th>\n",
       "      <td>2</td>\n",
       "      <td>15647311</td>\n",
       "      <td>Hill</td>\n",
       "      <td>608</td>\n",
       "      <td>Spain</td>\n",
       "      <td>Female</td>\n",
       "      <td>41</td>\n",
       "      <td>1.0</td>\n",
       "      <td>83807.86</td>\n",
       "      <td>1</td>\n",
       "      <td>0</td>\n",
       "      <td>1</td>\n",
       "      <td>112542.58</td>\n",
       "      <td>0</td>\n",
       "    </tr>\n",
       "    <tr>\n",
       "      <th>2</th>\n",
       "      <td>3</td>\n",
       "      <td>15619304</td>\n",
       "      <td>Onio</td>\n",
       "      <td>502</td>\n",
       "      <td>France</td>\n",
       "      <td>Female</td>\n",
       "      <td>42</td>\n",
       "      <td>8.0</td>\n",
       "      <td>159660.80</td>\n",
       "      <td>3</td>\n",
       "      <td>1</td>\n",
       "      <td>0</td>\n",
       "      <td>113931.57</td>\n",
       "      <td>1</td>\n",
       "    </tr>\n",
       "    <tr>\n",
       "      <th>3</th>\n",
       "      <td>4</td>\n",
       "      <td>15701354</td>\n",
       "      <td>Boni</td>\n",
       "      <td>699</td>\n",
       "      <td>France</td>\n",
       "      <td>Female</td>\n",
       "      <td>39</td>\n",
       "      <td>1.0</td>\n",
       "      <td>0.00</td>\n",
       "      <td>2</td>\n",
       "      <td>0</td>\n",
       "      <td>0</td>\n",
       "      <td>93826.63</td>\n",
       "      <td>0</td>\n",
       "    </tr>\n",
       "    <tr>\n",
       "      <th>4</th>\n",
       "      <td>5</td>\n",
       "      <td>15737888</td>\n",
       "      <td>Mitchell</td>\n",
       "      <td>850</td>\n",
       "      <td>Spain</td>\n",
       "      <td>Female</td>\n",
       "      <td>43</td>\n",
       "      <td>2.0</td>\n",
       "      <td>125510.82</td>\n",
       "      <td>1</td>\n",
       "      <td>1</td>\n",
       "      <td>1</td>\n",
       "      <td>79084.10</td>\n",
       "      <td>0</td>\n",
       "    </tr>\n",
       "  </tbody>\n",
       "</table>\n",
       "</div>"
      ],
      "text/plain": [
       "   RowNumber  CustomerId   Surname  CreditScore Geography  Gender  Age  \\\n",
       "0          1    15634602  Hargrave          619    France  Female   42   \n",
       "1          2    15647311      Hill          608     Spain  Female   41   \n",
       "2          3    15619304      Onio          502    France  Female   42   \n",
       "3          4    15701354      Boni          699    France  Female   39   \n",
       "4          5    15737888  Mitchell          850     Spain  Female   43   \n",
       "\n",
       "   Tenure    Balance  NumOfProducts  HasCrCard  IsActiveMember  \\\n",
       "0     2.0       0.00              1          1               1   \n",
       "1     1.0   83807.86              1          0               1   \n",
       "2     8.0  159660.80              3          1               0   \n",
       "3     1.0       0.00              2          0               0   \n",
       "4     2.0  125510.82              1          1               1   \n",
       "\n",
       "   EstimatedSalary  Exited  \n",
       "0        101348.88       1  \n",
       "1        112542.58       0  \n",
       "2        113931.57       1  \n",
       "3         93826.63       0  \n",
       "4         79084.10       0  "
      ]
     },
     "execution_count": 4,
     "metadata": {},
     "output_type": "execute_result"
    }
   ],
   "source": [
    "df.head()"
   ]
  },
  {
   "cell_type": "markdown",
   "metadata": {},
   "source": [
    "* **RowNumber** — столбец дублирует индекс - удалим.\n",
    "* **CustomerId** — уникальный id нам не нужен - удаляем.\n",
    "* **Surname** — фамилия для нашего исследования не несет полезной информации, удаляем.\n",
    "* **Geography, Gender** — преобразуем методом прямого кодирования (One-Hot Encoding).\n",
    "* **Tenure** — заменим пропуски средним значением.\n",
    "* **CreditScore, Age, Tenur, Balance, NumOfProducts, EstimatedSalary** — масштабируем."
   ]
  },
  {
   "cell_type": "code",
   "execution_count": 5,
   "metadata": {},
   "outputs": [],
   "source": [
    "# Удаляем лишние столбцы\n",
    "df = df.drop(['RowNumber','CustomerId','Surname'], axis=1)"
   ]
  },
  {
   "cell_type": "code",
   "execution_count": 6,
   "metadata": {},
   "outputs": [],
   "source": [
    "# Заполняем пропуски на среднее\n",
    "df['Tenure'] = df['Tenure'].fillna(df['Tenure'].mean()).astype('int64')"
   ]
  },
  {
   "cell_type": "code",
   "execution_count": 7,
   "metadata": {
    "scrolled": false
   },
   "outputs": [
    {
     "data": {
      "text/html": [
       "<div>\n",
       "<style scoped>\n",
       "    .dataframe tbody tr th:only-of-type {\n",
       "        vertical-align: middle;\n",
       "    }\n",
       "\n",
       "    .dataframe tbody tr th {\n",
       "        vertical-align: top;\n",
       "    }\n",
       "\n",
       "    .dataframe thead th {\n",
       "        text-align: right;\n",
       "    }\n",
       "</style>\n",
       "<table border=\"1\" class=\"dataframe\">\n",
       "  <thead>\n",
       "    <tr style=\"text-align: right;\">\n",
       "      <th></th>\n",
       "      <th>CreditScore</th>\n",
       "      <th>Age</th>\n",
       "      <th>Tenure</th>\n",
       "      <th>Balance</th>\n",
       "      <th>NumOfProducts</th>\n",
       "      <th>HasCrCard</th>\n",
       "      <th>IsActiveMember</th>\n",
       "      <th>EstimatedSalary</th>\n",
       "      <th>Exited</th>\n",
       "      <th>Geography_Germany</th>\n",
       "      <th>Geography_Spain</th>\n",
       "      <th>Gender_Male</th>\n",
       "    </tr>\n",
       "  </thead>\n",
       "  <tbody>\n",
       "    <tr>\n",
       "      <th>0</th>\n",
       "      <td>619</td>\n",
       "      <td>42</td>\n",
       "      <td>2</td>\n",
       "      <td>0.00</td>\n",
       "      <td>1</td>\n",
       "      <td>1</td>\n",
       "      <td>1</td>\n",
       "      <td>101348.88</td>\n",
       "      <td>1</td>\n",
       "      <td>0</td>\n",
       "      <td>0</td>\n",
       "      <td>0</td>\n",
       "    </tr>\n",
       "    <tr>\n",
       "      <th>1</th>\n",
       "      <td>608</td>\n",
       "      <td>41</td>\n",
       "      <td>1</td>\n",
       "      <td>83807.86</td>\n",
       "      <td>1</td>\n",
       "      <td>0</td>\n",
       "      <td>1</td>\n",
       "      <td>112542.58</td>\n",
       "      <td>0</td>\n",
       "      <td>0</td>\n",
       "      <td>1</td>\n",
       "      <td>0</td>\n",
       "    </tr>\n",
       "    <tr>\n",
       "      <th>2</th>\n",
       "      <td>502</td>\n",
       "      <td>42</td>\n",
       "      <td>8</td>\n",
       "      <td>159660.80</td>\n",
       "      <td>3</td>\n",
       "      <td>1</td>\n",
       "      <td>0</td>\n",
       "      <td>113931.57</td>\n",
       "      <td>1</td>\n",
       "      <td>0</td>\n",
       "      <td>0</td>\n",
       "      <td>0</td>\n",
       "    </tr>\n",
       "    <tr>\n",
       "      <th>3</th>\n",
       "      <td>699</td>\n",
       "      <td>39</td>\n",
       "      <td>1</td>\n",
       "      <td>0.00</td>\n",
       "      <td>2</td>\n",
       "      <td>0</td>\n",
       "      <td>0</td>\n",
       "      <td>93826.63</td>\n",
       "      <td>0</td>\n",
       "      <td>0</td>\n",
       "      <td>0</td>\n",
       "      <td>0</td>\n",
       "    </tr>\n",
       "    <tr>\n",
       "      <th>4</th>\n",
       "      <td>850</td>\n",
       "      <td>43</td>\n",
       "      <td>2</td>\n",
       "      <td>125510.82</td>\n",
       "      <td>1</td>\n",
       "      <td>1</td>\n",
       "      <td>1</td>\n",
       "      <td>79084.10</td>\n",
       "      <td>0</td>\n",
       "      <td>0</td>\n",
       "      <td>1</td>\n",
       "      <td>0</td>\n",
       "    </tr>\n",
       "  </tbody>\n",
       "</table>\n",
       "</div>"
      ],
      "text/plain": [
       "   CreditScore  Age  Tenure    Balance  NumOfProducts  HasCrCard  \\\n",
       "0          619   42       2       0.00              1          1   \n",
       "1          608   41       1   83807.86              1          0   \n",
       "2          502   42       8  159660.80              3          1   \n",
       "3          699   39       1       0.00              2          0   \n",
       "4          850   43       2  125510.82              1          1   \n",
       "\n",
       "   IsActiveMember  EstimatedSalary  Exited  Geography_Germany  \\\n",
       "0               1        101348.88       1                  0   \n",
       "1               1        112542.58       0                  0   \n",
       "2               0        113931.57       1                  0   \n",
       "3               0         93826.63       0                  0   \n",
       "4               1         79084.10       0                  0   \n",
       "\n",
       "   Geography_Spain  Gender_Male  \n",
       "0                0            0  \n",
       "1                1            0  \n",
       "2                0            0  \n",
       "3                0            0  \n",
       "4                1            0  "
      ]
     },
     "execution_count": 7,
     "metadata": {},
     "output_type": "execute_result"
    }
   ],
   "source": [
    "# Избавляемся от категориальных признаков\n",
    "df = pd.get_dummies(df, drop_first=True)\n",
    "df.head()"
   ]
  },
  {
   "cell_type": "code",
   "execution_count": 8,
   "metadata": {
    "scrolled": true
   },
   "outputs": [
    {
     "name": "stdout",
     "output_type": "stream",
     "text": [
      "<class 'pandas.core.frame.DataFrame'>\n",
      "RangeIndex: 10000 entries, 0 to 9999\n",
      "Data columns (total 12 columns):\n",
      " #   Column             Non-Null Count  Dtype  \n",
      "---  ------             --------------  -----  \n",
      " 0   CreditScore        10000 non-null  int64  \n",
      " 1   Age                10000 non-null  int64  \n",
      " 2   Tenure             10000 non-null  int64  \n",
      " 3   Balance            10000 non-null  float64\n",
      " 4   NumOfProducts      10000 non-null  int64  \n",
      " 5   HasCrCard          10000 non-null  int64  \n",
      " 6   IsActiveMember     10000 non-null  int64  \n",
      " 7   EstimatedSalary    10000 non-null  float64\n",
      " 8   Exited             10000 non-null  int64  \n",
      " 9   Geography_Germany  10000 non-null  uint8  \n",
      " 10  Geography_Spain    10000 non-null  uint8  \n",
      " 11  Gender_Male        10000 non-null  uint8  \n",
      "dtypes: float64(2), int64(7), uint8(3)\n",
      "memory usage: 732.5 KB\n"
     ]
    }
   ],
   "source": [
    "df.info()"
   ]
  },
  {
   "cell_type": "code",
   "execution_count": 9,
   "metadata": {
    "scrolled": true
   },
   "outputs": [
    {
     "data": {
      "text/html": [
       "<div>\n",
       "<style scoped>\n",
       "    .dataframe tbody tr th:only-of-type {\n",
       "        vertical-align: middle;\n",
       "    }\n",
       "\n",
       "    .dataframe tbody tr th {\n",
       "        vertical-align: top;\n",
       "    }\n",
       "\n",
       "    .dataframe thead th {\n",
       "        text-align: right;\n",
       "    }\n",
       "</style>\n",
       "<table border=\"1\" class=\"dataframe\">\n",
       "  <thead>\n",
       "    <tr style=\"text-align: right;\">\n",
       "      <th></th>\n",
       "      <th>CreditScore</th>\n",
       "      <th>Age</th>\n",
       "      <th>Tenure</th>\n",
       "      <th>Balance</th>\n",
       "      <th>NumOfProducts</th>\n",
       "      <th>HasCrCard</th>\n",
       "      <th>IsActiveMember</th>\n",
       "      <th>EstimatedSalary</th>\n",
       "      <th>Exited</th>\n",
       "      <th>Geography_Germany</th>\n",
       "      <th>Geography_Spain</th>\n",
       "      <th>Gender_Male</th>\n",
       "    </tr>\n",
       "  </thead>\n",
       "  <tbody>\n",
       "    <tr>\n",
       "      <th>count</th>\n",
       "      <td>10000.000000</td>\n",
       "      <td>10000.000000</td>\n",
       "      <td>10000.000000</td>\n",
       "      <td>10000.000000</td>\n",
       "      <td>10000.000000</td>\n",
       "      <td>10000.00000</td>\n",
       "      <td>10000.000000</td>\n",
       "      <td>10000.000000</td>\n",
       "      <td>10000.000000</td>\n",
       "      <td>10000.000000</td>\n",
       "      <td>10000.000000</td>\n",
       "      <td>10000.000000</td>\n",
       "    </tr>\n",
       "    <tr>\n",
       "      <th>mean</th>\n",
       "      <td>650.528800</td>\n",
       "      <td>38.921800</td>\n",
       "      <td>4.907000</td>\n",
       "      <td>76485.889288</td>\n",
       "      <td>1.530200</td>\n",
       "      <td>0.70550</td>\n",
       "      <td>0.515100</td>\n",
       "      <td>100090.239881</td>\n",
       "      <td>0.203700</td>\n",
       "      <td>0.250900</td>\n",
       "      <td>0.247700</td>\n",
       "      <td>0.545700</td>\n",
       "    </tr>\n",
       "    <tr>\n",
       "      <th>std</th>\n",
       "      <td>96.653299</td>\n",
       "      <td>10.487806</td>\n",
       "      <td>2.774873</td>\n",
       "      <td>62397.405202</td>\n",
       "      <td>0.581654</td>\n",
       "      <td>0.45584</td>\n",
       "      <td>0.499797</td>\n",
       "      <td>57510.492818</td>\n",
       "      <td>0.402769</td>\n",
       "      <td>0.433553</td>\n",
       "      <td>0.431698</td>\n",
       "      <td>0.497932</td>\n",
       "    </tr>\n",
       "    <tr>\n",
       "      <th>min</th>\n",
       "      <td>350.000000</td>\n",
       "      <td>18.000000</td>\n",
       "      <td>0.000000</td>\n",
       "      <td>0.000000</td>\n",
       "      <td>1.000000</td>\n",
       "      <td>0.00000</td>\n",
       "      <td>0.000000</td>\n",
       "      <td>11.580000</td>\n",
       "      <td>0.000000</td>\n",
       "      <td>0.000000</td>\n",
       "      <td>0.000000</td>\n",
       "      <td>0.000000</td>\n",
       "    </tr>\n",
       "    <tr>\n",
       "      <th>25%</th>\n",
       "      <td>584.000000</td>\n",
       "      <td>32.000000</td>\n",
       "      <td>3.000000</td>\n",
       "      <td>0.000000</td>\n",
       "      <td>1.000000</td>\n",
       "      <td>0.00000</td>\n",
       "      <td>0.000000</td>\n",
       "      <td>51002.110000</td>\n",
       "      <td>0.000000</td>\n",
       "      <td>0.000000</td>\n",
       "      <td>0.000000</td>\n",
       "      <td>0.000000</td>\n",
       "    </tr>\n",
       "    <tr>\n",
       "      <th>50%</th>\n",
       "      <td>652.000000</td>\n",
       "      <td>37.000000</td>\n",
       "      <td>4.000000</td>\n",
       "      <td>97198.540000</td>\n",
       "      <td>1.000000</td>\n",
       "      <td>1.00000</td>\n",
       "      <td>1.000000</td>\n",
       "      <td>100193.915000</td>\n",
       "      <td>0.000000</td>\n",
       "      <td>0.000000</td>\n",
       "      <td>0.000000</td>\n",
       "      <td>1.000000</td>\n",
       "    </tr>\n",
       "    <tr>\n",
       "      <th>75%</th>\n",
       "      <td>718.000000</td>\n",
       "      <td>44.000000</td>\n",
       "      <td>7.000000</td>\n",
       "      <td>127644.240000</td>\n",
       "      <td>2.000000</td>\n",
       "      <td>1.00000</td>\n",
       "      <td>1.000000</td>\n",
       "      <td>149388.247500</td>\n",
       "      <td>0.000000</td>\n",
       "      <td>1.000000</td>\n",
       "      <td>0.000000</td>\n",
       "      <td>1.000000</td>\n",
       "    </tr>\n",
       "    <tr>\n",
       "      <th>max</th>\n",
       "      <td>850.000000</td>\n",
       "      <td>92.000000</td>\n",
       "      <td>10.000000</td>\n",
       "      <td>250898.090000</td>\n",
       "      <td>4.000000</td>\n",
       "      <td>1.00000</td>\n",
       "      <td>1.000000</td>\n",
       "      <td>199992.480000</td>\n",
       "      <td>1.000000</td>\n",
       "      <td>1.000000</td>\n",
       "      <td>1.000000</td>\n",
       "      <td>1.000000</td>\n",
       "    </tr>\n",
       "  </tbody>\n",
       "</table>\n",
       "</div>"
      ],
      "text/plain": [
       "        CreditScore           Age        Tenure        Balance  NumOfProducts  \\\n",
       "count  10000.000000  10000.000000  10000.000000   10000.000000   10000.000000   \n",
       "mean     650.528800     38.921800      4.907000   76485.889288       1.530200   \n",
       "std       96.653299     10.487806      2.774873   62397.405202       0.581654   \n",
       "min      350.000000     18.000000      0.000000       0.000000       1.000000   \n",
       "25%      584.000000     32.000000      3.000000       0.000000       1.000000   \n",
       "50%      652.000000     37.000000      4.000000   97198.540000       1.000000   \n",
       "75%      718.000000     44.000000      7.000000  127644.240000       2.000000   \n",
       "max      850.000000     92.000000     10.000000  250898.090000       4.000000   \n",
       "\n",
       "         HasCrCard  IsActiveMember  EstimatedSalary        Exited  \\\n",
       "count  10000.00000    10000.000000     10000.000000  10000.000000   \n",
       "mean       0.70550        0.515100    100090.239881      0.203700   \n",
       "std        0.45584        0.499797     57510.492818      0.402769   \n",
       "min        0.00000        0.000000        11.580000      0.000000   \n",
       "25%        0.00000        0.000000     51002.110000      0.000000   \n",
       "50%        1.00000        1.000000    100193.915000      0.000000   \n",
       "75%        1.00000        1.000000    149388.247500      0.000000   \n",
       "max        1.00000        1.000000    199992.480000      1.000000   \n",
       "\n",
       "       Geography_Germany  Geography_Spain   Gender_Male  \n",
       "count       10000.000000     10000.000000  10000.000000  \n",
       "mean            0.250900         0.247700      0.545700  \n",
       "std             0.433553         0.431698      0.497932  \n",
       "min             0.000000         0.000000      0.000000  \n",
       "25%             0.000000         0.000000      0.000000  \n",
       "50%             0.000000         0.000000      1.000000  \n",
       "75%             1.000000         0.000000      1.000000  \n",
       "max             1.000000         1.000000      1.000000  "
      ]
     },
     "execution_count": 9,
     "metadata": {},
     "output_type": "execute_result"
    }
   ],
   "source": [
    "df.describe()"
   ]
  },
  {
   "cell_type": "code",
   "execution_count": 10,
   "metadata": {},
   "outputs": [],
   "source": [
    "features = df.drop(['Exited'], axis = 1)\n",
    "target = df['Exited']"
   ]
  },
  {
   "cell_type": "code",
   "execution_count": 11,
   "metadata": {},
   "outputs": [
    {
     "name": "stdout",
     "output_type": "stream",
     "text": [
      "(6700, 11) (1650, 11) (1650, 11)\n",
      "(6700,) (1650,) (1650,)\n"
     ]
    }
   ],
   "source": [
    "# Разбиваем на тренировочную, тестовую и валидационную выборки\n",
    "\n",
    "train_features, valid_features, train_target, valid_target = train_test_split(features, target, test_size=0.33, \n",
    "                                                                              random_state=12345)\n",
    "\n",
    "valid_features, test_features, valid_target, test_target = train_test_split(valid_features, valid_target, test_size=0.5, \n",
    "                                                                              random_state=12345 )\n",
    "print(train_features.shape, valid_features.shape, test_features.shape)\n",
    "print(train_target.shape, valid_target.shape, test_target.shape)"
   ]
  },
  {
   "cell_type": "code",
   "execution_count": 12,
   "metadata": {},
   "outputs": [
    {
     "data": {
      "text/html": [
       "<div>\n",
       "<style scoped>\n",
       "    .dataframe tbody tr th:only-of-type {\n",
       "        vertical-align: middle;\n",
       "    }\n",
       "\n",
       "    .dataframe tbody tr th {\n",
       "        vertical-align: top;\n",
       "    }\n",
       "\n",
       "    .dataframe thead th {\n",
       "        text-align: right;\n",
       "    }\n",
       "</style>\n",
       "<table border=\"1\" class=\"dataframe\">\n",
       "  <thead>\n",
       "    <tr style=\"text-align: right;\">\n",
       "      <th></th>\n",
       "      <th>CreditScore</th>\n",
       "      <th>Age</th>\n",
       "      <th>Tenure</th>\n",
       "      <th>Balance</th>\n",
       "      <th>NumOfProducts</th>\n",
       "      <th>HasCrCard</th>\n",
       "      <th>IsActiveMember</th>\n",
       "      <th>EstimatedSalary</th>\n",
       "      <th>Geography_Germany</th>\n",
       "      <th>Geography_Spain</th>\n",
       "      <th>Gender_Male</th>\n",
       "    </tr>\n",
       "  </thead>\n",
       "  <tbody>\n",
       "    <tr>\n",
       "      <th>1130</th>\n",
       "      <td>-0.838818</td>\n",
       "      <td>-0.463587</td>\n",
       "      <td>-1.427852</td>\n",
       "      <td>0.407708</td>\n",
       "      <td>-0.892130</td>\n",
       "      <td>0</td>\n",
       "      <td>1</td>\n",
       "      <td>1.656156</td>\n",
       "      <td>1</td>\n",
       "      <td>0</td>\n",
       "      <td>0</td>\n",
       "    </tr>\n",
       "    <tr>\n",
       "      <th>7359</th>\n",
       "      <td>0.144919</td>\n",
       "      <td>-0.273604</td>\n",
       "      <td>-0.340573</td>\n",
       "      <td>0.704042</td>\n",
       "      <td>0.822029</td>\n",
       "      <td>1</td>\n",
       "      <td>0</td>\n",
       "      <td>-1.144798</td>\n",
       "      <td>0</td>\n",
       "      <td>0</td>\n",
       "      <td>1</td>\n",
       "    </tr>\n",
       "    <tr>\n",
       "      <th>7167</th>\n",
       "      <td>0.248471</td>\n",
       "      <td>-0.938544</td>\n",
       "      <td>0.746707</td>\n",
       "      <td>0.893697</td>\n",
       "      <td>-0.892130</td>\n",
       "      <td>0</td>\n",
       "      <td>0</td>\n",
       "      <td>1.545764</td>\n",
       "      <td>0</td>\n",
       "      <td>0</td>\n",
       "      <td>1</td>\n",
       "    </tr>\n",
       "    <tr>\n",
       "      <th>505</th>\n",
       "      <td>-0.704201</td>\n",
       "      <td>-0.748561</td>\n",
       "      <td>0.021854</td>\n",
       "      <td>-1.228216</td>\n",
       "      <td>0.822029</td>\n",
       "      <td>1</td>\n",
       "      <td>0</td>\n",
       "      <td>-1.183319</td>\n",
       "      <td>0</td>\n",
       "      <td>0</td>\n",
       "      <td>1</td>\n",
       "    </tr>\n",
       "    <tr>\n",
       "      <th>7908</th>\n",
       "      <td>-0.735267</td>\n",
       "      <td>-0.368595</td>\n",
       "      <td>-0.340573</td>\n",
       "      <td>-1.228216</td>\n",
       "      <td>0.822029</td>\n",
       "      <td>0</td>\n",
       "      <td>1</td>\n",
       "      <td>-0.233649</td>\n",
       "      <td>0</td>\n",
       "      <td>0</td>\n",
       "      <td>1</td>\n",
       "    </tr>\n",
       "  </tbody>\n",
       "</table>\n",
       "</div>"
      ],
      "text/plain": [
       "      CreditScore       Age    Tenure   Balance  NumOfProducts  HasCrCard  \\\n",
       "1130    -0.838818 -0.463587 -1.427852  0.407708      -0.892130          0   \n",
       "7359     0.144919 -0.273604 -0.340573  0.704042       0.822029          1   \n",
       "7167     0.248471 -0.938544  0.746707  0.893697      -0.892130          0   \n",
       "505     -0.704201 -0.748561  0.021854 -1.228216       0.822029          1   \n",
       "7908    -0.735267 -0.368595 -0.340573 -1.228216       0.822029          0   \n",
       "\n",
       "      IsActiveMember  EstimatedSalary  Geography_Germany  Geography_Spain  \\\n",
       "1130               1         1.656156                  1                0   \n",
       "7359               0        -1.144798                  0                0   \n",
       "7167               0         1.545764                  0                0   \n",
       "505                0        -1.183319                  0                0   \n",
       "7908               1        -0.233649                  0                0   \n",
       "\n",
       "      Gender_Male  \n",
       "1130            0  \n",
       "7359            1  \n",
       "7167            1  \n",
       "505             1  \n",
       "7908            1  "
      ]
     },
     "execution_count": 12,
     "metadata": {},
     "output_type": "execute_result"
    }
   ],
   "source": [
    "# Масштабируем численные признаки выборок для выравнивания весов\n",
    "numeric = ['CreditScore', 'Age', 'Tenure', 'Balance', 'NumOfProducts', 'EstimatedSalary']\n",
    "\n",
    "scaler = StandardScaler()\n",
    "scaler.fit(train_features[numeric])\n",
    "\n",
    "train_features[numeric] = scaler.transform(train_features[numeric])\n",
    "valid_features[numeric] = scaler.transform(valid_features[numeric])\n",
    "test_features[numeric] = scaler.transform(test_features[numeric])\n",
    "\n",
    "train_features.head()"
   ]
  },
  {
   "cell_type": "markdown",
   "metadata": {},
   "source": [
    "## Исследование задачи"
   ]
  },
  {
   "cell_type": "markdown",
   "metadata": {},
   "source": [
    "### Баланс данных"
   ]
  },
  {
   "cell_type": "code",
   "execution_count": 13,
   "metadata": {},
   "outputs": [
    {
     "data": {
      "text/plain": [
       "0    7963\n",
       "1    2037\n",
       "Name: Exited, dtype: int64"
      ]
     },
     "execution_count": 13,
     "metadata": {},
     "output_type": "execute_result"
    },
    {
     "data": {
      "image/png": "[encoded data removed]",
      "text/plain": [
       "<Figure size 720x432 with 1 Axes>"
      ]
     },
     "metadata": {
      "needs_background": "light"
     },
     "output_type": "display_data"
    }
   ],
   "source": [
    "df['Exited'].value_counts().plot(kind='bar', grid=True,figsize=(10,6), title='0 - Оставшиеся клиенты. 1 - ушедшие')\n",
    "df['Exited'].value_counts()"
   ]
  },
  {
   "cell_type": "markdown",
   "metadata": {},
   "source": [
    "Имеется дисбаланс классов. 1 к 4 в пользу оставшихся клиентов. Это может привести модель к склонению в распространённый вариант ответа."
   ]
  },
  {
   "cell_type": "markdown",
   "metadata": {},
   "source": [
    "### Обучение моделей"
   ]
  },
  {
   "cell_type": "markdown",
   "metadata": {},
   "source": [
    "#### Обучим модель случайного дерева с перебором глубины, найдем гиперпараметры с наибольшей метрикой f1 (среднее гармоническое полноты и точности)."
   ]
  },
  {
   "cell_type": "code",
   "execution_count": 14,
   "metadata": {},
   "outputs": [
    {
     "name": "stdout",
     "output_type": "stream",
     "text": [
      "Глубина: 5 | Лучший результат F1: 0.5602836879432624\n",
      "CPU times: user 650 ms, sys: 2.72 ms, total: 653 ms\n",
      "Wall time: 660 ms\n"
     ]
    }
   ],
   "source": [
    "%%time\n",
    "\n",
    "f1_best = 0\n",
    "depth_best = 0\n",
    "for depth in range(1, 25):\n",
    "    model = DecisionTreeClassifier(random_state=12345, max_depth=depth)\n",
    "    model.fit(train_features, train_target)\n",
    "    prediction = model.predict(valid_features)\n",
    "    f1 = f1_score(valid_target, prediction)\n",
    "    if f1>f1_best:\n",
    "            f1_best=f1\n",
    "            depth_best=depth\n",
    "print('Глубина:', depth_best,'| ''Лучший результат F1:', f1_best)"
   ]
  },
  {
   "cell_type": "markdown",
   "metadata": {},
   "source": [
    "Проведем оценку accuracy (Доля правильных оветов), precision (Точность), recall (Полнота), F1, AUC-ROC (площадь под кривой ошибок) на полученных гиперпараметрах"
   ]
  },
  {
   "cell_type": "code",
   "execution_count": 73,
   "metadata": {},
   "outputs": [
    {
     "name": "stdout",
     "output_type": "stream",
     "text": [
      "Accuracy 0.8496969696969697\n",
      "Precision 0.7523809523809524\n",
      "Recall 0.4463276836158192\n",
      "F1 0.5602836879432624\n",
      "AUC-ROC 0.8352296505545094\n"
     ]
    }
   ],
   "source": [
    "model = DecisionTreeClassifier(random_state=12345, max_depth=5)\n",
    "\n",
    "model.fit(train_features, train_target)\n",
    "prediction = model.predict(valid_features)\n",
    "\n",
    "accuracy_random_tree_unbalanced  = accuracy_score(valid_target, prediction)\n",
    "precision_random_tree_unbalanced = precision_score(valid_target, prediction)\n",
    "recall_random_tree_unbalanced    = recall_score(valid_target, prediction)\n",
    "f1_random_tree_unbalanced        = f1_score(valid_target, prediction)\n",
    "probabilities_valid              = model.predict_proba(valid_features)[:, 1]\n",
    "auc_roc_random_tree_unbalanced   = roc_auc_score(valid_target, probabilities_valid)\n",
    "\n",
    "print('Accuracy', accuracy_random_tree_unbalanced)\n",
    "print('Precision', precision_random_tree_unbalanced)\n",
    "print('Recall', recall_random_tree_unbalanced)\n",
    "print('F1', f1_random_tree_unbalanced)\n",
    "print(\"AUC-ROC\", auc_roc_random_tree_unbalanced)"
   ]
  },
  {
   "cell_type": "markdown",
   "metadata": {},
   "source": [
    "#### Обучим модель случайного леса с перебором гиперпараметров, которые дают наибольшую метрику f1  (среднее гармоническое полноты и точности)."
   ]
  },
  {
   "cell_type": "markdown",
   "metadata": {},
   "source": [
    "Проведем оценку accuracy, precision, recall, F1, AUC-ROC на полученных гиперпараметрах"
   ]
  },
  {
   "cell_type": "code",
   "execution_count": 54,
   "metadata": {},
   "outputs": [
    {
     "name": "stdout",
     "output_type": "stream",
     "text": [
      "n_estimators = 37 Max depth: 18 F1-score: 0.6164623467600701\n",
      "CPU times: user 1.18 s, sys: 4.02 ms, total: 1.18 s\n",
      "Wall time: 1.18 s\n"
     ]
    }
   ],
   "source": [
    "%%time\n",
    "\n",
    "f1_best = 0\n",
    "estim_best = 0\n",
    "depth_best = 0\n",
    "\n",
    "for estim in range (36, 38): # тут уже заданы оптимальные параметры\n",
    "    for depth in range(17, 19): # тут уже заданы оптимальные параметры\n",
    "        model = RandomForestClassifier(n_estimators=estim, max_depth=depth, random_state=12345)\n",
    "        model.fit(train_features, train_target)\n",
    "        prediction = model.predict(valid_features)\n",
    "        f1 = f1_score(valid_target, prediction)\n",
    "        if f1>f1_best:\n",
    "            f1_best=f1\n",
    "            estim_best=estim\n",
    "            depth_best=depth\n",
    "        \n",
    "\n",
    "print('n_estimators =', estim_best, 'Max depth:', depth_best, 'F1-score:', f1_best)\n",
    "# результаты прогона для 1-63 деревьев, глубина 1 - 25: n_estimators = 37 Max depth: 18 F1-score: 0.6164623467600701\n",
    "# CPU times: user 4min 56s, sys: 1.24 s, total: 4min 57s"
   ]
  },
  {
   "cell_type": "markdown",
   "metadata": {},
   "source": [
    "Проведем оценку accuracy, precision, recall, F1, AUC-ROC на полученных гиперпараметрах:"
   ]
  },
  {
   "cell_type": "code",
   "execution_count": 26,
   "metadata": {},
   "outputs": [
    {
     "name": "stdout",
     "output_type": "stream",
     "text": [
      "Accuracy 0.8672727272727273\n",
      "Precision 0.8110599078341014\n",
      "Recall 0.4971751412429379\n",
      "F1 0.6164623467600701\n",
      "AUC-ROC 0.8421206929622654\n"
     ]
    }
   ],
   "source": [
    "model = RandomForestClassifier(n_estimators=37, max_depth=18, random_state=12345)\n",
    "\n",
    "model.fit(train_features, train_target)\n",
    "prediction = model.predict(valid_features)\n",
    "\n",
    "accuracy_random_forest_unbalanced  = accuracy_score(valid_target, prediction)\n",
    "precision_random_forest_unbalanced = precision_score(valid_target, prediction)\n",
    "recall_random_forest_unbalanced    = recall_score(valid_target, prediction)\n",
    "f1_random_forest_unbalanced        = f1_score(valid_target, prediction)\n",
    "probabilities_valid                = model.predict_proba(valid_features)[:, 1]\n",
    "auc_roc_random_forest_unbalanced   = roc_auc_score(valid_target, probabilities_valid)\n",
    "\n",
    "print('Accuracy', accuracy_random_forest_unbalanced)\n",
    "print('Precision', precision_random_forest_unbalanced)\n",
    "print('Recall', recall_random_forest_unbalanced)\n",
    "print('F1', f1_random_forest_unbalanced)\n",
    "print(\"AUC-ROC\", auc_roc_random_forest_unbalanced)"
   ]
  },
  {
   "cell_type": "markdown",
   "metadata": {},
   "source": [
    "#### Обучение и оценка метрик с помощью модели Логистической регрессии"
   ]
  },
  {
   "cell_type": "code",
   "execution_count": 27,
   "metadata": {},
   "outputs": [
    {
     "name": "stdout",
     "output_type": "stream",
     "text": [
      "Accuracy 0.7933333333333333\n",
      "Precision 0.5488721804511278\n",
      "Recall 0.2062146892655367\n",
      "F1 0.29979466119096504\n",
      "AUC-ROC 0.7595164609053497\n"
     ]
    }
   ],
   "source": [
    "model =  LogisticRegression()\n",
    "\n",
    "model.fit(train_features, train_target)\n",
    "prediction = model.predict(valid_features)\n",
    "\n",
    "accuracy_logic_regression_unbalanced  = accuracy_score(valid_target, prediction)\n",
    "precision_logic_regression_unbalanced = precision_score(valid_target, prediction)\n",
    "recall_logic_regression_unbalanced    = recall_score(valid_target, prediction)\n",
    "f1_logic_regression_unbalanced        = f1_score(valid_target, prediction)\n",
    "probabilities_valid                   = model.predict_proba(valid_features)[:, 1]\n",
    "auc_roc_logic_regression_unbalanced   = roc_auc_score(valid_target, probabilities_valid)\n",
    "\n",
    "print('Accuracy', accuracy_logic_regression_unbalanced)\n",
    "print('Precision', precision_logic_regression_unbalanced)\n",
    "print('Recall', recall_logic_regression_unbalanced)\n",
    "print('F1', f1_logic_regression_unbalanced)\n",
    "print(\"AUC-ROC\", auc_roc_logic_regression_unbalanced)"
   ]
  },
  {
   "cell_type": "markdown",
   "metadata": {},
   "source": [
    "### Вывод:"
   ]
  },
  {
   "cell_type": "markdown",
   "metadata": {},
   "source": [
    "Из-за несбалансированности данных все модели имеют Recall ниже, чем Percision, это влияет на F1 метрику. "
   ]
  },
  {
   "cell_type": "markdown",
   "metadata": {},
   "source": [
    "## Борьба с дисбалансом"
   ]
  },
  {
   "cell_type": "markdown",
   "metadata": {},
   "source": [
    "Проблему дисбаланса мы можем решить тремя способами:\n",
    "\n",
    "1. Добавить в модель параметр class_weight='balanced'\n",
    "2. Upsampling\n",
    "3. Downsampling\n",
    "\n",
    "Поочередно проверим эффективность каждого способа."
   ]
  },
  {
   "cell_type": "markdown",
   "metadata": {},
   "source": [
    "### Обучение моделей с параметром автоматической регулировки весов."
   ]
  },
  {
   "cell_type": "markdown",
   "metadata": {},
   "source": [
    "#### Модель случайного дерева"
   ]
  },
  {
   "cell_type": "code",
   "execution_count": 19,
   "metadata": {},
   "outputs": [
    {
     "name": "stdout",
     "output_type": "stream",
     "text": [
      "Max depth: 5 F1-score: 0.6032540675844806\n"
     ]
    }
   ],
   "source": [
    "# Подбор гиперпараметров\n",
    "\n",
    "f1_best = 0\n",
    "depth_best = 0\n",
    "for depth in range(2, 18): \n",
    "    model = DecisionTreeClassifier(random_state=12345, max_depth=depth, class_weight='balanced')\n",
    "    model.fit(train_features, train_target)\n",
    "    prediction = model.predict(valid_features)\n",
    "    f1 = f1_score(valid_target, prediction)\n",
    "    if f1>f1_best:\n",
    "            f1_best=f1\n",
    "            depth_best=depth\n",
    "print('Max depth:', depth_best,'F1-score:', f1_best)"
   ]
  },
  {
   "cell_type": "code",
   "execution_count": 91,
   "metadata": {},
   "outputs": [
    {
     "name": "stdout",
     "output_type": "stream",
     "text": [
      "Accuracy 0.8078787878787879\n",
      "Precision 0.5415730337078651\n",
      "Recall 0.6807909604519774\n",
      "F1 0.6032540675844806\n",
      "AUC-ROC 0.8357527725465579\n"
     ]
    }
   ],
   "source": [
    "# Расчет метрик\n",
    "model = DecisionTreeClassifier(random_state=12345, max_depth=5, class_weight='balanced')\n",
    "model.fit(train_features, train_target)\n",
    "prediction = model.predict(valid_features)\n",
    "\n",
    "accuracy_random_tree_balanced  = accuracy_score(valid_target, prediction)\n",
    "precision_random_tree_balanced = precision_score(valid_target, prediction)\n",
    "recall_random_tree_balanced    = recall_score(valid_target, prediction)\n",
    "f1_random_tree_balanced        = f1_score(valid_target, prediction)\n",
    "probabilities_valid            = model.predict_proba(valid_features)[:, 1]\n",
    "auc_roc_random_tree_balanced   = roc_auc_score(valid_target, probabilities_valid)\n",
    "\n",
    "fpr_tree, tpr_tree, thresholds = roc_curve(valid_target, probabilities_valid)\n",
    "\n",
    "print('Accuracy', accuracy_random_tree_balanced)\n",
    "print('Precision', precision_random_tree_balanced)\n",
    "print('Recall', recall_random_tree_balanced)\n",
    "print('F1', f1_random_tree_balanced)\n",
    "print(\"AUC-ROC\", auc_roc_random_tree_balanced)\n"
   ]
  },
  {
   "cell_type": "markdown",
   "metadata": {},
   "source": [
    "#### Модель случайного леса"
   ]
  },
  {
   "cell_type": "code",
   "execution_count": 21,
   "metadata": {},
   "outputs": [
    {
     "name": "stdout",
     "output_type": "stream",
     "text": [
      "n_estimators = 79 Max depth 9 F1-score 0.6519944979367263\n"
     ]
    }
   ],
   "source": [
    "f1_best = 0\n",
    "estim_best = 0\n",
    "depth_best = 0\n",
    "\n",
    "for estim in range (78, 80): # тут уже заданы оптимальные параметры\n",
    "    for depth in range(8, 10): # тут уже заданы оптимальные параметры\n",
    "        model = RandomForestClassifier(n_estimators=estim, max_depth=depth, random_state=12345, class_weight='balanced')\n",
    "        model.fit(train_features, train_target)\n",
    "        prediction = model.predict(valid_features)\n",
    "        f1 = f1_score(valid_target, prediction)\n",
    "        if f1>f1_best:\n",
    "            f1_best=f1\n",
    "            estim_best=estim\n",
    "            depth_best=depth      \n",
    "print('n_estimators =', estim_best, 'Max depth', depth_best, 'F1-score', f1_best)\n",
    "# при 1-100 деревьях, глубине 1-25 оптимум: n_estimators = 79 Max depth 9 F1-score 0.6519944979367263"
   ]
  },
  {
   "cell_type": "code",
   "execution_count": 92,
   "metadata": {},
   "outputs": [
    {
     "name": "stdout",
     "output_type": "stream",
     "text": [
      "Accuracy 0.8466666666666667\n",
      "Precision 0.6353887399463807\n",
      "Recall 0.6694915254237288\n",
      "F1 0.6519944979367263\n",
      "AUC-ROC 0.8568236904512799\n"
     ]
    }
   ],
   "source": [
    "# Расчет метрик\n",
    "model = RandomForestClassifier(n_estimators=79, max_depth=9, random_state=12345, class_weight='balanced')\n",
    "model.fit(train_features, train_target)\n",
    "prediction = model.predict(valid_features)\n",
    "\n",
    "accuracy_random_forest_balanced  = accuracy_score(valid_target, prediction)\n",
    "precision_random_forest_balanced = precision_score(valid_target, prediction)\n",
    "recall_random_forest_balanced    = recall_score(valid_target, prediction)\n",
    "f1_random_forest_balanced        = f1_score(valid_target, prediction)\n",
    "probabilities_valid              = model.predict_proba(valid_features)[:, 1]\n",
    "auc_roc_random_forest_balanced   = roc_auc_score(valid_target, probabilities_valid)\n",
    "\n",
    "fpr_forest, tpr_forest, thresholds = roc_curve(valid_target, probabilities_valid)\n",
    "\n",
    "print('Accuracy', accuracy_random_forest_balanced)\n",
    "print('Precision', precision_random_forest_balanced)\n",
    "print('Recall', recall_random_forest_balanced)\n",
    "print('F1', f1_random_forest_balanced)\n",
    "print(\"AUC-ROC\", auc_roc_random_forest_balanced)\n"
   ]
  },
  {
   "cell_type": "markdown",
   "metadata": {},
   "source": [
    "#### Модель: логистическая регрессия"
   ]
  },
  {
   "cell_type": "code",
   "execution_count": 93,
   "metadata": {},
   "outputs": [
    {
     "name": "stdout",
     "output_type": "stream",
     "text": [
      "Accuracy 0.6987878787878787\n",
      "Precision 0.38596491228070173\n",
      "Recall 0.6836158192090396\n",
      "F1 0.493374108053007\n",
      "AUC-ROC 0.7640915986608077\n"
     ]
    }
   ],
   "source": [
    "model =  LogisticRegression(class_weight='balanced')\n",
    "model.fit(train_features, train_target)\n",
    "prediction = model.predict(valid_features)\n",
    "\n",
    "accuracy_logic_regression_balanced  = accuracy_score(valid_target, prediction)\n",
    "precision_logic_regression_balanced = precision_score(valid_target, prediction)\n",
    "recall_logic_regression_balanced    = recall_score(valid_target, prediction)\n",
    "f1_logic_regression_balanced        = f1_score(valid_target, prediction)\n",
    "probabilities_valid                 = model.predict_proba(valid_features)[:, 1]\n",
    "auc_roc_logic_regression_balanced   = roc_auc_score(valid_target, probabilities_valid)\n",
    "\n",
    "fpr_log, tpr_log, thresholds = roc_curve(valid_target, probabilities_valid)\n",
    "\n",
    "print('Accuracy', accuracy_logic_regression_balanced)\n",
    "print('Precision', precision_logic_regression_balanced)\n",
    "print('Recall', recall_logic_regression_balanced)\n",
    "print('F1', f1_logic_regression_balanced)\n",
    "print(\"AUC-ROC\", auc_roc_logic_regression_balanced)"
   ]
  },
  {
   "cell_type": "markdown",
   "metadata": {},
   "source": [
    "#### Вывод:"
   ]
  },
  {
   "cell_type": "code",
   "execution_count": 32,
   "metadata": {},
   "outputs": [
    {
     "name": "stdout",
     "output_type": "stream",
     "text": [
      "Метрика F1, Модель случайного дерева, несбалансированная: 0.5602836879432624\n",
      "Метрика F1, Модель случайного дерева, со сбалансированными весами 0.6032540675844806\n",
      "Метрика AUC-ROC, Модель случайного дерева, несбалансированная: 0.8352296505545094\n",
      "Метрика AUC-ROC, Модель случайного дерева, со сбалансированными весами 0.8357527725465579\n",
      "\n",
      "Метрика F1, модель случайного леса, несбалансированная 0.6164623467600701\n",
      "Метрика F1, модель случайного леса, со сбалансированными весами 0.6519944979367263\n",
      "Метрика AUC-ROC, модель случайного леса, несбалансированная 0.8421206929622654\n",
      "Метрика AUC-ROC, модель случайного леса, со сбалансированными весами 0.8568236904512799\n",
      "\n",
      "Метрика F1, модель логистической регрессии, несбалансированная 0.29979466119096504\n",
      "Метрика F1, модель логистической регрессии со сбалансированными весами 0.493374108053007\n",
      "Метрика AUC-ROC, модель логистической регрессии, несбалансированная 0.7595164609053497\n",
      "Метрика AUC-ROC, модель логистической регрессии со сбалансированными весами 0.7640915986608077\n"
     ]
    }
   ],
   "source": [
    "print('Метрика F1, Модель случайного дерева, несбалансированная:', f1_random_tree_unbalanced)\n",
    "print('Метрика F1, Модель случайного дерева, со сбалансированными весами' , f1_random_tree_balanced)\n",
    "print(\"Метрика AUC-ROC, Модель случайного дерева, несбалансированная:\", auc_roc_random_tree_unbalanced)\n",
    "print(\"Метрика AUC-ROC, Модель случайного дерева, со сбалансированными весами\", auc_roc_random_tree_balanced)\n",
    "print('')\n",
    "\n",
    "print('Метрика F1, модель случайного леса, несбалансированная', f1_random_forest_unbalanced)\n",
    "print('Метрика F1, модель случайного леса, со сбалансированными весами', f1_random_forest_balanced)\n",
    "print(\"Метрика AUC-ROC, модель случайного леса, несбалансированная\", auc_roc_random_forest_unbalanced)\n",
    "print(\"Метрика AUC-ROC, модель случайного леса, со сбалансированными весами\", auc_roc_random_forest_balanced)\n",
    "print('')\n",
    "\n",
    "print('Метрика F1, модель логистической регрессии, несбалансированная', f1_logic_regression_unbalanced)\n",
    "print('Метрика F1, модель логистической регрессии со сбалансированными весами', f1_logic_regression_balanced)\n",
    "print(\"Метрика AUC-ROC, модель логистической регрессии, несбалансированная\", auc_roc_logic_regression_unbalanced)\n",
    "print(\"Метрика AUC-ROC, модель логистической регрессии со сбалансированными весами\", auc_roc_logic_regression_balanced)"
   ]
  },
  {
   "cell_type": "markdown",
   "metadata": {},
   "source": [
    "Наблюдаем улучшение F1 (среднее гармоническое полноты и точности), AUC-ROC (площадь под кривой ошибок) метрик при балансировки веса данных."
   ]
  },
  {
   "cell_type": "markdown",
   "metadata": {},
   "source": [
    "### Upsamling"
   ]
  },
  {
   "cell_type": "code",
   "execution_count": 42,
   "metadata": {},
   "outputs": [],
   "source": [
    "# создаем функцию\n",
    "def upsampling (features,target,repeat):\n",
    "    #Разделяем выборку по значениям целевой функции\n",
    "    target_one=target[target==1]\n",
    "    target_zeros=target[target==0]\n",
    "    features_one=features[target==1]\n",
    "    features_zeros=features[target==0]\n",
    "    \n",
    "    #Увеличиваем и соединяем обратно\n",
    "    upsampling_features=pd.concat([features_zeros]+[features_one]*repeat)\n",
    "    upsampling_target=pd.concat([target_zeros]+[target_one]*repeat)\n",
    "    \n",
    "    # Перемешиваем\n",
    "    upsampling_features,upsampling_target=shuffle(upsampling_features,upsampling_target,random_state=12345)\n",
    "    \n",
    "    return upsampling_features,upsampling_target"
   ]
  },
  {
   "cell_type": "code",
   "execution_count": 43,
   "metadata": {},
   "outputs": [],
   "source": [
    "# применяем функцию\n",
    "features_upsampled, target_upsampled = upsampling(train_features, train_target, 10)"
   ]
  },
  {
   "cell_type": "markdown",
   "metadata": {},
   "source": [
    "#### Модель случайного дерева"
   ]
  },
  {
   "cell_type": "code",
   "execution_count": 48,
   "metadata": {},
   "outputs": [
    {
     "name": "stdout",
     "output_type": "stream",
     "text": [
      "Max depth: 2 F1-score: 0.5128205128205128\n",
      "CPU times: user 1.07 s, sys: 3.99 ms, total: 1.08 s\n",
      "Wall time: 1.08 s\n"
     ]
    }
   ],
   "source": [
    "%%time\n",
    "\n",
    "# Подбор гиперпараметров\n",
    "f1_best = 0\n",
    "depth_best = 0\n",
    "for depth in range(1, 25):\n",
    "    model = DecisionTreeClassifier(random_state=12345, max_depth=depth)\n",
    "    model.fit(features_upsampled,target_upsampled)\n",
    "    prediction = model.predict(valid_features)\n",
    "    f1 = f1_score(valid_target, prediction)\n",
    "    if f1>f1_best:\n",
    "            f1_best=f1\n",
    "            depth_best=depth\n",
    "print('Max depth:', depth_best,'F1-score:', f1_best)"
   ]
  },
  {
   "cell_type": "code",
   "execution_count": 74,
   "metadata": {},
   "outputs": [
    {
     "name": "stdout",
     "output_type": "stream",
     "text": [
      "Accuracy 0.6890909090909091\n",
      "Precision 0.38626609442060084\n",
      "Recall 0.7627118644067796\n",
      "F1 0.5128205128205128\n",
      "AUC-ROC 0.7501177024482109\n"
     ]
    }
   ],
   "source": [
    "model = DecisionTreeClassifier(random_state=12345, max_depth=2)\n",
    "model.fit(features_upsampled, target_upsampled)\n",
    "prediction = model.predict(valid_features)\n",
    "\n",
    "accuracy_random_tree_upsampled  = accuracy_score(valid_target, prediction)\n",
    "precision_random_tree_upsampled = precision_score(valid_target, prediction)\n",
    "recall_random_tree_upsampled    = recall_score(valid_target, prediction)\n",
    "f1_random_tree_upsampled        = f1_score(valid_target, prediction)\n",
    "probabilities_valid             = model.predict_proba(valid_features)[:, 1]\n",
    "auc_roc_random_tree_upsampled   = roc_auc_score(valid_target, probabilities_valid)\n",
    "\n",
    "print('Accuracy', accuracy_random_tree_upsampled)\n",
    "print('Precision', precision_random_tree_upsampled)\n",
    "print('Recall', recall_random_tree_upsampled)\n",
    "print('F1', f1_random_tree_upsampled)\n",
    "print(\"AUC-ROC\", auc_roc_random_tree_upsampled)\n"
   ]
  },
  {
   "cell_type": "markdown",
   "metadata": {},
   "source": [
    "#### Модель случайного леса"
   ]
  },
  {
   "cell_type": "code",
   "execution_count": 53,
   "metadata": {},
   "outputs": [
    {
     "name": "stdout",
     "output_type": "stream",
     "text": [
      "n_estimators = 89 Max depth 22 F1-score 0.6214511041009464\n",
      "CPU times: user 7.87 s, sys: 72 ms, total: 7.95 s\n",
      "Wall time: 7.95 s\n"
     ]
    }
   ],
   "source": [
    "%%time\n",
    "\n",
    "# Подбор гиперпараметров\n",
    "f1_best = 0\n",
    "estim_best = 0\n",
    "depth_best = 0\n",
    "\n",
    "for estim in range (87, 90):\n",
    "    for depth in range(21, 23):\n",
    "        model = RandomForestClassifier(n_estimators=estim, max_depth=depth, random_state=12345)\n",
    "        model.fit(features_upsampled,target_upsampled)\n",
    "        prediction = model.predict(valid_features)\n",
    "        f1 = f1_score(valid_target, prediction)\n",
    "        if f1>f1_best:\n",
    "            f1_best=f1\n",
    "            estim_best=estim\n",
    "            depth_best=depth      \n",
    "print('n_estimators =', estim_best, 'Max depth', depth_best, 'F1-score', f1_best)\n",
    "\n",
    "#Результаты прогона по: деревья 1-100, глубина 1-25\n",
    "#n_estimators = 89 Max depth 22 F1-score 0.6214511041009464 \n",
    "#CPU times: user 24min 35s, sys: 5.73 s, total: 24min 40s\n"
   ]
  },
  {
   "cell_type": "code",
   "execution_count": 57,
   "metadata": {},
   "outputs": [
    {
     "name": "stdout",
     "output_type": "stream",
     "text": [
      "Accuracy 0.8406060606060606\n",
      "Precision 0.6511627906976745\n",
      "Recall 0.5536723163841808\n",
      "F1 0.5984732824427481\n",
      "AUC-ROC 0.8293140126944271\n"
     ]
    }
   ],
   "source": [
    "# Расчет метрик\n",
    "model = RandomForestClassifier(n_estimators=estim_best, max_depth=depth_best, random_state=12345)\n",
    "model.fit(features_upsampled, target_upsampled)\n",
    "prediction = model.predict(valid_features)\n",
    "\n",
    "accuracy_random_forest_upsampled  = accuracy_score(valid_target, prediction)\n",
    "precision_random_forest_upsampled = precision_score(valid_target, prediction)\n",
    "recall_random_forest_upsampled    = recall_score(valid_target, prediction)\n",
    "f1_random_forest_upsampled        = f1_score(valid_target, prediction)\n",
    "probabilities_valid               = model.predict_proba(valid_features)[:, 1]\n",
    "auc_roc_random_forest_upsampled   = roc_auc_score(valid_target, probabilities_valid)\n",
    "\n",
    "print('Accuracy', accuracy_random_forest_upsampled)\n",
    "print('Precision', precision_random_forest_upsampled)\n",
    "print('Recall', recall_random_forest_upsampled)\n",
    "print('F1', f1_random_forest_upsampled)\n",
    "print(\"AUC-ROC\", auc_roc_random_forest_upsampled)\n"
   ]
  },
  {
   "cell_type": "markdown",
   "metadata": {},
   "source": [
    "#### Модель логистическая регрессия"
   ]
  },
  {
   "cell_type": "code",
   "execution_count": 59,
   "metadata": {},
   "outputs": [
    {
     "name": "stdout",
     "output_type": "stream",
     "text": [
      "Accuracy 0.47878787878787876\n",
      "Precision 0.28264604810996563\n",
      "Recall 0.9293785310734464\n",
      "F1 0.4334650856389987\n",
      "AUC-ROC 0.7658222605845018\n"
     ]
    }
   ],
   "source": [
    "model =  LogisticRegression()\n",
    "model.fit(features_upsampled, target_upsampled)\n",
    "prediction = model.predict(valid_features)\n",
    "\n",
    "accuracy_logic_regression_upsampled  = accuracy_score(valid_target, prediction)\n",
    "precision_logic_regression_upsampled = precision_score(valid_target, prediction)\n",
    "recall_logic_regression_upsampled    = recall_score(valid_target, prediction)\n",
    "f1_logic_regression_upsampled        = f1_score(valid_target, prediction)\n",
    "probabilities_valid                  = model.predict_proba(valid_features)[:, 1]\n",
    "auc_roc_logic_regression_upsampled   = roc_auc_score(valid_target, probabilities_valid)\n",
    "\n",
    "print('Accuracy', accuracy_logic_regression_upsampled)\n",
    "print('Precision', precision_logic_regression_upsampled)\n",
    "print('Recall', recall_logic_regression_upsampled)\n",
    "print('F1', f1_logic_regression_upsampled)\n",
    "print(\"AUC-ROC\", auc_roc_logic_regression_upsampled)\n",
    "\n"
   ]
  },
  {
   "cell_type": "markdown",
   "metadata": {},
   "source": [
    "#### Вывод:"
   ]
  },
  {
   "cell_type": "code",
   "execution_count": 64,
   "metadata": {
    "scrolled": true
   },
   "outputs": [
    {
     "name": "stdout",
     "output_type": "stream",
     "text": [
      "Метрика F1, Модель случайного дерева, несбалансированная: 0.5602836879432624\n",
      "Метрика F1, Модель случайного дерева, со сбалансированными весами 0.6032540675844806\n",
      "** Метрика F1, Модель случайного дерева, увеличенная выборка: 0.5128205128205128\n",
      "\n",
      "Метрика AUC-ROC, Модель случайного дерева, несбалансированная: 0.8352296505545094\n",
      "Метрика AUC-ROC, Модель случайного дерева, со сбалансированными весами 0.8357527725465579\n",
      "** Метрика AUC-ROC, Модель случайного дерева, увеличенная выборка: 0.7640915986608077\n",
      "\n",
      "\n",
      "Метрика F1, модель случайного леса, несбалансированная 0.6164623467600701\n",
      "Метрика F1, модель случайного леса, со сбалансированными весами 0.6519944979367263\n",
      "** Метрика F1, модель случайного леса, увеличенная выборка: 0.5984732824427481\n",
      "\n",
      "Метрика AUC-ROC, модель случайного леса, несбалансированная 0.8421206929622654\n",
      "Метрика AUC-ROC, модель случайного леса, со сбалансированными весами 0.8568236904512799\n",
      "** Метрика AUC-ROC, модель случайного леса, увеличенная выборка: 0.8293140126944271\n",
      "\n",
      "\n",
      "Метрика F1, модель логистической регрессии, несбалансированная 0.29979466119096504\n",
      "Метрика F1, модель логистической регрессии со сбалансированными весами 0.493374108053007\n",
      "** Метрика F1, модель логистической регрессии, увеличенная выборка 0.4334650856389987\n",
      "\n",
      "Метрика AUC-ROC, модель логистической регрессии, несбалансированная 0.7595164609053497\n",
      "Метрика AUC-ROC, модель логистической регрессии со сбалансированными весами 0.7640915986608077\n",
      "** Метрика AUC-ROC, модель логистической регрессии, увеличенная выборка 0.7658222605845018\n"
     ]
    }
   ],
   "source": [
    "print('Метрика F1, Модель случайного дерева, несбалансированная:', f1_random_tree_unbalanced)\n",
    "print('Метрика F1, Модель случайного дерева, со сбалансированными весами', f1_random_tree_balanced)\n",
    "print('** Метрика F1, Модель случайного дерева, увеличенная выборка:', f1_random_tree_upsampled )  \n",
    "print('')\n",
    "print(\"Метрика AUC-ROC, Модель случайного дерева, несбалансированная:\", auc_roc_random_tree_unbalanced)\n",
    "print(\"Метрика AUC-ROC, Модель случайного дерева, со сбалансированными весами\", auc_roc_random_tree_balanced)\n",
    "print('** Метрика AUC-ROC, Модель случайного дерева, увеличенная выборка:', auc_roc_random_tree_upsampled)   \n",
    "print('')\n",
    "print('')\n",
    "print('Метрика F1, модель случайного леса, несбалансированная', f1_random_forest_unbalanced)\n",
    "print('Метрика F1, модель случайного леса, со сбалансированными весами', f1_random_forest_balanced)\n",
    "print('** Метрика F1, модель случайного леса, увеличенная выборка:', f1_random_forest_upsampled)   \n",
    "print('')\n",
    "print(\"Метрика AUC-ROC, модель случайного леса, несбалансированная\", auc_roc_random_forest_unbalanced)\n",
    "print(\"Метрика AUC-ROC, модель случайного леса, со сбалансированными весами\", auc_roc_random_forest_balanced)\n",
    "print('** Метрика AUC-ROC, модель случайного леса, увеличенная выборка:',  auc_roc_random_forest_upsampled)   \n",
    "print('')\n",
    "print('')\n",
    "print('Метрика F1, модель логистической регрессии, несбалансированная', f1_logic_regression_unbalanced)\n",
    "print('Метрика F1, модель логистической регрессии со сбалансированными весами', f1_logic_regression_balanced)\n",
    "print('** Метрика F1, модель логистической регрессии, увеличенная выборка', f1_logic_regression_upsampled)\n",
    "print('')\n",
    "print(\"Метрика AUC-ROC, модель логистической регрессии, несбалансированная\", auc_roc_logic_regression_unbalanced)\n",
    "print(\"Метрика AUC-ROC, модель логистической регрессии со сбалансированными весами\", auc_roc_logic_regression_balanced)\n",
    "print(\"** Метрика AUC-ROC, модель логистической регрессии, увеличенная выборка\", auc_roc_logic_regression_upsampled)"
   ]
  },
  {
   "cell_type": "markdown",
   "metadata": {},
   "source": [
    "Метрики стали хуже, пока метод балансировки весов показывает лучшие результы."
   ]
  },
  {
   "cell_type": "markdown",
   "metadata": {},
   "source": [
    "### Downsampling"
   ]
  },
  {
   "cell_type": "code",
   "execution_count": 65,
   "metadata": {},
   "outputs": [],
   "source": [
    "def downsampling(features,target,fraction):\n",
    "    #Разделяем выборку по значениям целевой функции\n",
    "    features_zero=features[target==0]\n",
    "    features_one=features[target==1]\n",
    "    target_zero=target[target==0]\n",
    "    target_one=target[target==1]\n",
    "    \n",
    "    #уменьшаем путем умножения на десятую часть и соединяем обратно\n",
    "    downsampling_features=pd.concat([features_zero.sample(frac=fraction,random_state=12345)]+[features_one])\n",
    "    downsampling_target=pd.concat([target_zero.sample(frac=fraction,random_state=12345)]+[target_one])\n",
    "    \n",
    "    # Перемешиваем\n",
    "    downsampling_features,downsampling_target=shuffle(downsampling_features,downsampling_target,random_state=12345)\n",
    "    \n",
    "    return downsampling_features,downsampling_target"
   ]
  },
  {
   "cell_type": "code",
   "execution_count": 66,
   "metadata": {},
   "outputs": [],
   "source": [
    "features_downsampled,target_downsampled=downsampling(features,target,0.1)"
   ]
  },
  {
   "cell_type": "markdown",
   "metadata": {},
   "source": [
    "#### Модель случайного дерева"
   ]
  },
  {
   "cell_type": "code",
   "execution_count": 67,
   "metadata": {},
   "outputs": [
    {
     "name": "stdout",
     "output_type": "stream",
     "text": [
      "Max depth: 10 F1-score: 0.4130162703379224\n"
     ]
    }
   ],
   "source": [
    "# Подбор гиперпараметров\n",
    "f1_best = 0\n",
    "depth_best = 0\n",
    "for depth in range(1, 25): #\n",
    "    model = DecisionTreeClassifier(random_state=12345, max_depth=depth)\n",
    "    model.fit(features_downsampled,target_downsampled)\n",
    "    prediction = model.predict(valid_features)\n",
    "    f1 = f1_score(valid_target, prediction)\n",
    "    if f1>f1_best:\n",
    "            f1_best=f1\n",
    "            depth_best=depth\n",
    "print('Max depth:', depth_best,'F1-score:', f1_best)"
   ]
  },
  {
   "cell_type": "code",
   "execution_count": 75,
   "metadata": {},
   "outputs": [
    {
     "name": "stdout",
     "output_type": "stream",
     "text": [
      "Accuracy 0.7157575757575757\n",
      "Precision 0.3707865168539326\n",
      "Recall 0.4661016949152542\n",
      "F1 0.4130162703379224\n",
      "AUC-ROC 0.6183923153379368\n"
     ]
    }
   ],
   "source": [
    "# Расчет метрик\n",
    "model = DecisionTreeClassifier(random_state=12345, max_depth=10)\n",
    "model.fit(features_downsampled,target_downsampled)\n",
    "prediction = model.predict(valid_features)\n",
    "\n",
    "accuracy_random_tree_downsampled  = accuracy_score(valid_target, prediction)\n",
    "precision_random_tree_downsampled = precision_score(valid_target, prediction)\n",
    "recall_random_tree_downsampled    = recall_score(valid_target, prediction)\n",
    "f1_random_tree_downsampled        = f1_score(valid_target, prediction)\n",
    "probabilities_valid               = model.predict_proba(valid_features)[:, 1]\n",
    "auc_roc_random_tree_downsampled   = roc_auc_score(valid_target, probabilities_valid)\n",
    "\n",
    "print('Accuracy', accuracy_random_tree_downsampled)\n",
    "print('Precision', precision_random_tree_downsampled)\n",
    "print('Recall', recall_random_tree_downsampled)\n",
    "print('F1', f1_random_tree_downsampled)\n",
    "print(\"AUC-ROC\", auc_roc_random_tree_downsampled)\n"
   ]
  },
  {
   "cell_type": "markdown",
   "metadata": {},
   "source": [
    "#### Модель случайного леса"
   ]
  },
  {
   "cell_type": "code",
   "execution_count": 78,
   "metadata": {},
   "outputs": [
    {
     "name": "stdout",
     "output_type": "stream",
     "text": [
      "n_estimators = 4 Max depth: 4 F1-score: 0.4177215189873417\n",
      "CPU times: user 19.3 ms, sys: 38 µs, total: 19.3 ms\n",
      "Wall time: 17.8 ms\n"
     ]
    }
   ],
   "source": [
    "%%time\n",
    "\n",
    "# Подбор гиперпараметров\n",
    "f1_best = 0\n",
    "estim_best = 0\n",
    "depth_best = 0\n",
    "\n",
    "for estim in range (4, 5): # эти параметры уже получены, как оптимальные\n",
    "    for depth in range(4, 5): # эти параметры уже получены, как оптимальные\n",
    "        model = RandomForestClassifier(n_estimators=estim, max_depth=depth, random_state=12345)\n",
    "        model.fit(features_downsampled,target_downsampled)\n",
    "        prediction = model.predict(valid_features)\n",
    "        f1 = f1_score(valid_target, prediction)\n",
    "        if f1>f1_best:\n",
    "            f1_best=f1\n",
    "            estim_best=estim\n",
    "            depth_best=depth      \n",
    "print('n_estimators =', estim_best, 'Max depth:', depth_best, 'F1-score:', f1_best)\n",
    "\n",
    "# по результатам просчета 1-100 деревьев и глубины 1-25 - получили:\n",
    "#n_estimators = 4 Max depth: 4 F1-score: 0.4177215189873417\n",
    "#CPU times: user 6min 36s, sys: 2.04 s, total: 6min 38s"
   ]
  },
  {
   "cell_type": "code",
   "execution_count": 80,
   "metadata": {},
   "outputs": [
    {
     "name": "stdout",
     "output_type": "stream",
     "text": [
      "Accuracy 0.6654545454545454\n",
      "Precision 0.3333333333333333\n",
      "Recall 0.559322033898305\n",
      "F1 0.4177215189873417\n",
      "AUC-ROC 0.6841313123387041\n"
     ]
    }
   ],
   "source": [
    "# Расчет метрик\n",
    "model = RandomForestClassifier(n_estimators=estim_best, max_depth=depth_best, random_state=12345)\n",
    "model.fit(features_downsampled,target_downsampled)\n",
    "prediction = model.predict(valid_features)\n",
    "\n",
    "\n",
    "accuracy_random_forest_downsampled  = accuracy_score(valid_target, prediction)\n",
    "precision_random_forest_downsampled = precision_score(valid_target, prediction)\n",
    "recall_random_forest_downsampled    = recall_score(valid_target, prediction)\n",
    "f1_random_forest_downsampled        = f1_score(valid_target, prediction)\n",
    "probabilities_valid                 = model.predict_proba(valid_features)[:, 1]\n",
    "auc_roc_random_forest_downsampled   = roc_auc_score(valid_target, probabilities_valid)\n",
    "\n",
    "print('Accuracy', accuracy_random_forest_downsampled)\n",
    "print('Precision', precision_random_forest_downsampled)\n",
    "print('Recall', recall_random_forest_downsampled)\n",
    "print('F1', f1_random_forest_downsampled)\n",
    "print(\"AUC-ROC\", auc_roc_random_forest_downsampled)"
   ]
  },
  {
   "cell_type": "markdown",
   "metadata": {},
   "source": [
    "#### Модель логистическая регрессия"
   ]
  },
  {
   "cell_type": "code",
   "execution_count": 82,
   "metadata": {},
   "outputs": [
    {
     "name": "stdout",
     "output_type": "stream",
     "text": [
      "Accuracy 0.666060606060606\n",
      "Precision 0.36262203626220363\n",
      "Recall 0.7344632768361582\n",
      "F1 0.4855275443510738\n",
      "AUC-ROC 0.7417913440747714\n"
     ]
    }
   ],
   "source": [
    "model =  LogisticRegression()\n",
    "model.fit(features_downsampled,target_downsampled)\n",
    "prediction = model.predict(valid_features)\n",
    "\n",
    "accuracy_logic_regression_downsampled  = accuracy_score(valid_target, prediction)\n",
    "precision_logic_regression_downsampled = precision_score(valid_target, prediction)\n",
    "recall_logic_regression_downsampled    = recall_score(valid_target, prediction)\n",
    "f1_logic_regression_downsampled        = f1_score(valid_target, prediction)\n",
    "probabilities_valid                    = model.predict_proba(valid_features)[:, 1]\n",
    "auc_roc_logic_regression_downsampled   = roc_auc_score(valid_target, probabilities_valid)\n",
    "\n",
    "print('Accuracy', accuracy_logic_regression_downsampled)\n",
    "print('Precision', precision_logic_regression_downsampled)\n",
    "print('Recall', recall_logic_regression_downsampled)\n",
    "print('F1', f1_logic_regression_downsampled)\n",
    "print(\"AUC-ROC\", auc_roc_logic_regression_downsampled)"
   ]
  },
  {
   "cell_type": "markdown",
   "metadata": {},
   "source": [
    "#### Вывод:"
   ]
  },
  {
   "cell_type": "code",
   "execution_count": 88,
   "metadata": {},
   "outputs": [
    {
     "name": "stdout",
     "output_type": "stream",
     "text": [
      "Метрика F1, Модель случайного дерева, несбалансированная: 0.5602836879432624\n",
      "Метрика F1, Модель случайного дерева, со сбалансированными весами 0.6032540675844806\n",
      "Метрика F1, Модель случайного дерева, увеличенная выборка: 0.5128205128205128\n",
      "** Метрика F1, Модель случайного дерева, уменьшенная выборка 0.4130162703379224\n",
      "\n",
      "Метрика AUC-ROC, Модель случайного дерева, несбалансированная: 0.8352296505545094\n",
      "Метрика AUC-ROC, Модель случайного дерева, со сбалансированными весами 0.8357527725465579\n",
      "Метрика AUC-ROC, Модель случайного дерева, увеличенная выборка: 0.7501177024482109\n",
      "** Метрика AUC-ROC, Модель случайного дерева, уменьшенная выборка: 0.6183923153379368\n",
      "_________________________________________________________________\n",
      "Метрика F1, модель случайного леса, несбалансированная 0.6164623467600701\n",
      "Метрика F1, модель случайного леса, со сбалансированными весами 0.6519944979367263\n",
      "Метрика F1, модель случайного леса, увеличенная выборка: 0.5984732824427481\n",
      "** Метрика F1, модель случайного леса, уменьшенная выборка: 0.4177215189873417\n",
      "\n",
      "Метрика AUC-ROC, модель случайного леса, несбалансированная 0.8421206929622654\n",
      "Метрика AUC-ROC, модель случайного леса, со сбалансированными весами 0.8568236904512799\n",
      "Метрика AUC-ROC, модель случайного леса, увеличенная выборка: 0.8293140126944271\n",
      "** Метрика AUC-ROC, модель случайного леса, уменьшенная выборка: 0.6841313123387041\n",
      "_________________________________________________________________\n",
      "Метрика F1, модель логистической регрессии, несбалансированная 0.29979466119096504\n",
      "Метрика F1, модель логистической регрессии со сбалансированными весами 0.493374108053007\n",
      "Метрика F1, модель логистической регрессии, увеличенная выборка 0.4334650856389987\n",
      "** Метрика F1, модель логистической регрессии, уменьшенная выборка 0.4855275443510738\n",
      "\n",
      "Метрика AUC-ROC, модель логистической регрессии, несбалансированная 0.7595164609053497\n",
      "Метрика AUC-ROC, модель логистической регрессии со сбалансированными весами 0.7640915986608077\n",
      "Метрика AUC-ROC, модель логистической регрессии, увеличенная выборка 0.7658222605845018\n",
      "** Метрика AUC-ROC, модель логистической регрессии, уменьшенная выборка 0.7417913440747714\n"
     ]
    }
   ],
   "source": [
    "print('Метрика F1, Модель случайного дерева, несбалансированная:', f1_random_tree_unbalanced)\n",
    "print('Метрика F1, Модель случайного дерева, со сбалансированными весами', f1_random_tree_balanced)\n",
    "print('Метрика F1, Модель случайного дерева, увеличенная выборка:', f1_random_tree_upsampled )  \n",
    "print('** Метрика F1, Модель случайного дерева, уменьшенная выборка', f1_random_tree_downsampled)\n",
    "print('')\n",
    "print(\"Метрика AUC-ROC, Модель случайного дерева, несбалансированная:\", auc_roc_random_tree_unbalanced)\n",
    "print(\"Метрика AUC-ROC, Модель случайного дерева, со сбалансированными весами\", auc_roc_random_tree_balanced)\n",
    "print('Метрика AUC-ROC, Модель случайного дерева, увеличенная выборка:', auc_roc_random_tree_upsampled)  \n",
    "print(\"** Метрика AUC-ROC, Модель случайного дерева, уменьшенная выборка:\", auc_roc_random_tree_downsampled) \n",
    "print('_________________________________________________________________')\n",
    "\n",
    "print('Метрика F1, модель случайного леса, несбалансированная', f1_random_forest_unbalanced)\n",
    "print('Метрика F1, модель случайного леса, со сбалансированными весами', f1_random_forest_balanced)\n",
    "print('Метрика F1, модель случайного леса, увеличенная выборка:', f1_random_forest_upsampled)   \n",
    "print('** Метрика F1, модель случайного леса, уменьшенная выборка:', f1_random_forest_downsampled)\n",
    "print('')\n",
    "print(\"Метрика AUC-ROC, модель случайного леса, несбалансированная\", auc_roc_random_forest_unbalanced)\n",
    "print(\"Метрика AUC-ROC, модель случайного леса, со сбалансированными весами\", auc_roc_random_forest_balanced)\n",
    "print('Метрика AUC-ROC, модель случайного леса, увеличенная выборка:',  auc_roc_random_forest_upsampled)   \n",
    "print(\"** Метрика AUC-ROC, модель случайного леса, уменьшенная выборка:\", auc_roc_random_forest_downsampled)\n",
    "print('_________________________________________________________________')\n",
    "\n",
    "print('Метрика F1, модель логистической регрессии, несбалансированная', f1_logic_regression_unbalanced)\n",
    "print('Метрика F1, модель логистической регрессии со сбалансированными весами', f1_logic_regression_balanced)\n",
    "print('Метрика F1, модель логистической регрессии, увеличенная выборка', f1_logic_regression_upsampled)\n",
    "print('** Метрика F1, модель логистической регрессии, уменьшенная выборка', f1_logic_regression_downsampled)\n",
    "print('')\n",
    "print(\"Метрика AUC-ROC, модель логистической регрессии, несбалансированная\", auc_roc_logic_regression_unbalanced)\n",
    "print(\"Метрика AUC-ROC, модель логистической регрессии со сбалансированными весами\", auc_roc_logic_regression_balanced)\n",
    "print(\"Метрика AUC-ROC, модель логистической регрессии, увеличенная выборка\", auc_roc_logic_regression_upsampled)\n",
    "print(\"** Метрика AUC-ROC, модель логистической регрессии, уменьшенная выборка\", auc_roc_logic_regression_downsampled)"
   ]
  },
  {
   "cell_type": "markdown",
   "metadata": {},
   "source": [
    "Для большинства моделей метрики стали еще хуже. "
   ]
  },
  {
   "cell_type": "markdown",
   "metadata": {},
   "source": [
    "### Вывод"
   ]
  },
  {
   "cell_type": "markdown",
   "metadata": {},
   "source": [
    "Наилучшее качество метрик было достигнуто при взвешивании классов параметром class_weight='balanced' с применением модели случайного леса. "
   ]
  },
  {
   "cell_type": "markdown",
   "metadata": {},
   "source": [
    "## Визуализация AUC-ROC"
   ]
  },
  {
   "cell_type": "code",
   "execution_count": 98,
   "metadata": {
    "scrolled": false
   },
   "outputs": [
    {
     "data": {
      "text/plain": [
       "<Figure size 432x288 with 0 Axes>"
      ]
     },
     "metadata": {},
     "output_type": "display_data"
    },
    {
     "data": {
      "image/png": "[encoded data removed]",
      "text/plain": [
       "<Figure size 720x504 with 1 Axes>"
      ]
     },
     "metadata": {
      "needs_background": "light"
     },
     "output_type": "display_data"
    }
   ],
   "source": [
    "plt.figure()\n",
    "\n",
    "plt.figure(figsize=(10,7))\n",
    "plt.plot([0, 1], [0, 1], linestyle='--')\n",
    "plt.xlim([0.0, 1.0])\n",
    "plt.ylim([0.0, 1.0])\n",
    "\n",
    "plt.plot(fpr_tree,tpr_tree)\n",
    "plt.plot(fpr_forest,tpr_forest)\n",
    "plt.plot(fpr_log,tpr_log)\n",
    "\n",
    "\n",
    "plt.xlabel('False Positive Rate')\n",
    "plt.ylabel('True Positive Rate')\n",
    "plt.title('ROC-кривая')\n",
    "plt.legend(('BaseLine', 'Дерево решения', 'Случайный лес','Логистическая регрессия'),loc= 'upper left') \n",
    "plt.show()"
   ]
  },
  {
   "cell_type": "markdown",
   "metadata": {},
   "source": [
    "Метрика AUC-ROC Случайного леса с балансированным весом данных лучше остальных."
   ]
  },
  {
   "cell_type": "markdown",
   "metadata": {},
   "source": [
    "## Тестирование модели"
   ]
  },
  {
   "cell_type": "markdown",
   "metadata": {},
   "source": [
    "### Обучим модель"
   ]
  },
  {
   "cell_type": "markdown",
   "metadata": {},
   "source": [
    "Берем модель случайного леса со сбалансированным весом данных, как наиболее эффективную.<br> \n",
    "Зададим ей опытным путем установленные наилучшие гиперпараметры: количество деревьев: 79, максимальная глубина: 9."
   ]
  },
  {
   "cell_type": "code",
   "execution_count": 105,
   "metadata": {},
   "outputs": [
    {
     "name": "stdout",
     "output_type": "stream",
     "text": [
      "Accuracy 0.8466666666666667\n",
      "Precision 0.6353887399463807\n",
      "Recall 0.6694915254237288\n",
      "F1 0.6519944979367263\n",
      "AUC-ROC 0.8568236904512799\n"
     ]
    }
   ],
   "source": [
    "best_model = RandomForestClassifier(n_estimators=79, max_depth=9, random_state=12345, class_weight='balanced')\n",
    "best_model.fit(train_features, train_target)\n",
    "prediction = best_model.predict(valid_features)\n",
    "\n",
    "accuracy_best_model  = accuracy_score(valid_target, prediction)\n",
    "precision_best_model = precision_score(valid_target, prediction)\n",
    "recall_best_model    = recall_score(valid_target, prediction)\n",
    "f1_best_model        = f1_score(valid_target, prediction)\n",
    "probabilities_valid  = best_model.predict_proba(valid_features)[:, 1]\n",
    "auc_roc_best_model   = roc_auc_score(valid_target, probabilities_valid)\n",
    "\n",
    "print('Accuracy', accuracy_best_model)\n",
    "print('Precision', precision_best_model)\n",
    "print('Recall', recall_best_model)\n",
    "print('F1', f1_best_model)\n",
    "print(\"AUC-ROC\", auc_roc_best_model)"
   ]
  },
  {
   "cell_type": "markdown",
   "metadata": {},
   "source": [
    "### Проверим на адекватность"
   ]
  },
  {
   "cell_type": "code",
   "execution_count": 106,
   "metadata": {},
   "outputs": [
    {
     "data": {
      "text/plain": [
       "0    1650\n",
       "dtype: int64"
      ]
     },
     "execution_count": 106,
     "metadata": {},
     "output_type": "execute_result"
    }
   ],
   "source": [
    "#Создаем константную модель\n",
    "target_predict_constant = pd.Series([0]*len(valid_target))\n",
    "target_predict_constant.value_counts()"
   ]
  },
  {
   "cell_type": "code",
   "execution_count": 107,
   "metadata": {},
   "outputs": [
    {
     "name": "stdout",
     "output_type": "stream",
     "text": [
      "accuracy_score константой модели: 0.7854545454545454\n",
      "accuracy_score лучшей модели: 0.8466666666666667\n"
     ]
    }
   ],
   "source": [
    "#Сравним показатель точности (accuracy_score) константной модели и финальной\n",
    "print('accuracy_score константой модели:', accuracy_score(valid_target, target_predict_constant))\n",
    "print('accuracy_score лучшей модели:', accuracy_score(valid_target, prediction))"
   ]
  },
  {
   "cell_type": "code",
   "execution_count": 110,
   "metadata": {},
   "outputs": [
    {
     "name": "stdout",
     "output_type": "stream",
     "text": [
      "AUC-ROC константой модели: 0.5\n",
      "AUC-ROC финальной модели: 0.8568236904512799\n"
     ]
    }
   ],
   "source": [
    "#Сравним AUC-ROC, остальные метрики не работают на константной модели.\n",
    "print('AUC-ROC константой модели:', roc_auc_score(valid_target, target_predict_constant))\n",
    "print('AUC-ROC финальной модели:', roc_auc_score(valid_target, probabilities_valid))"
   ]
  },
  {
   "cell_type": "markdown",
   "metadata": {},
   "source": [
    "#### Вывод:"
   ]
  },
  {
   "cell_type": "markdown",
   "metadata": {},
   "source": [
    "Метрики лучшей модели лучше, чем константной, модель является адекватной."
   ]
  },
  {
   "cell_type": "markdown",
   "metadata": {},
   "source": [
    "### Тестируем модель"
   ]
  },
  {
   "cell_type": "code",
   "execution_count": 111,
   "metadata": {
    "scrolled": true
   },
   "outputs": [
    {
     "name": "stdout",
     "output_type": "stream",
     "text": [
      "Accuracy 0.8254545454545454\n",
      "Precision 0.559322033898305\n",
      "Recall 0.685459940652819\n",
      "F1 0.616\n",
      "AUC-ROC 0.8582131210153656\n"
     ]
    }
   ],
   "source": [
    "prediction = best_model.predict(test_features)\n",
    "print('Accuracy', accuracy_score(test_target, prediction))\n",
    "print('Precision', precision_score(test_target, prediction))\n",
    "print('Recall', recall_score(test_target, prediction))\n",
    "print('F1', f1_score(test_target, prediction))\n",
    "probabilities_valid = best_model.predict_proba(test_features)[:, 1]\n",
    "print(\"AUC-ROC\", roc_auc_score(test_target, probabilities_valid))\n",
    "fpr, tpr, thresholds = roc_curve(test_target, probabilities_valid)"
   ]
  },
  {
   "cell_type": "code",
   "execution_count": 112,
   "metadata": {},
   "outputs": [
    {
     "data": {
      "text/plain": [
       "<Figure size 432x288 with 0 Axes>"
      ]
     },
     "metadata": {},
     "output_type": "display_data"
    },
    {
     "data": {
      "image/png": "[encoded data removed]",
      "text/plain": [
       "<Figure size 720x504 with 1 Axes>"
      ]
     },
     "metadata": {
      "needs_background": "light"
     },
     "output_type": "display_data"
    }
   ],
   "source": [
    "plt.figure()\n",
    "\n",
    "plt.figure(figsize=(10,7))\n",
    "plt.plot([0, 1], [0, 1], linestyle='--')\n",
    "plt.xlim([0.0, 1.0])\n",
    "plt.ylim([0.0, 1.0])\n",
    "plt.plot(fpr,tpr)\n",
    "plt.xlabel('False Positive Rate')\n",
    "plt.ylabel('True Positive Rate')\n",
    "plt.title('ROC-кривая')\n",
    "plt.legend(('BaseLine','Тестируемая модель'), loc= 'upper left') \n",
    "plt.show()"
   ]
  },
  {
   "cell_type": "markdown",
   "metadata": {},
   "source": [
    "### Вывод:"
   ]
  },
  {
   "cell_type": "markdown",
   "metadata": {},
   "source": [
    "Модель Случайного леса с автоматическим сбалансированием данных показала себя лучше других видов баланса и несбалансированных моделей. Лучшая модель на тестовой выборке достигла заданного порога (F1 = 0.616) и показывает адекватные результаты (AUC-ROC = 0.85). Модель находит большую часть ушедших клиентов на тестовой выборке (Recall = 0.68)"
   ]
  }
 ],
 "metadata": {
  "ExecuteTimeLog": [
   {
    "duration": 1623,
    "start_time": "2022-10-06T06:16:57.136Z"
   },
   {
    "duration": 3,
    "start_time": "2022-10-06T06:17:10.230Z"
   },
   {
    "duration": 168,
    "start_time": "2022-10-06T06:17:17.704Z"
   },
   {
    "duration": 41,
    "start_time": "2022-10-06T06:17:23.048Z"
   },
   {
    "duration": 14,
    "start_time": "2022-10-06T06:17:36.450Z"
   },
   {
    "duration": 19,
    "start_time": "2022-10-06T06:21:37.726Z"
   },
   {
    "duration": 79,
    "start_time": "2022-10-06T06:23:45.073Z"
   },
   {
    "duration": 4,
    "start_time": "2022-10-06T09:38:12.727Z"
   },
   {
    "duration": 23,
    "start_time": "2022-10-06T09:39:14.168Z"
   },
   {
    "duration": 42,
    "start_time": "2022-10-06T09:39:28.496Z"
   },
   {
    "duration": 13,
    "start_time": "2022-10-06T09:39:33.830Z"
   },
   {
    "duration": 14,
    "start_time": "2022-10-06T09:39:40.321Z"
   },
   {
    "duration": 5,
    "start_time": "2022-10-06T09:39:50.761Z"
   },
   {
    "duration": 14,
    "start_time": "2022-10-06T09:39:52.583Z"
   },
   {
    "duration": 15,
    "start_time": "2022-10-06T09:40:16.897Z"
   },
   {
    "duration": 1653,
    "start_time": "2022-10-06T09:40:38.261Z"
   },
   {
    "duration": 43,
    "start_time": "2022-10-06T09:40:39.916Z"
   },
   {
    "duration": 14,
    "start_time": "2022-10-06T09:40:39.961Z"
   },
   {
    "duration": 17,
    "start_time": "2022-10-06T09:40:39.977Z"
   },
   {
    "duration": 5,
    "start_time": "2022-10-06T09:40:39.997Z"
   },
   {
    "duration": 6,
    "start_time": "2022-10-06T09:42:30.269Z"
   },
   {
    "duration": 19,
    "start_time": "2022-10-06T09:44:50.560Z"
   },
   {
    "duration": 178,
    "start_time": "2022-10-06T09:56:41.572Z"
   },
   {
    "duration": 5,
    "start_time": "2022-10-06T09:57:03.454Z"
   },
   {
    "duration": 14,
    "start_time": "2022-10-06T09:57:19.561Z"
   },
   {
    "duration": 4,
    "start_time": "2022-10-06T09:57:54.926Z"
   },
   {
    "duration": 15,
    "start_time": "2022-10-06T10:00:29.750Z"
   },
   {
    "duration": 46,
    "start_time": "2022-10-06T10:00:47.467Z"
   },
   {
    "duration": 10,
    "start_time": "2022-10-06T10:14:44.262Z"
   },
   {
    "duration": 13,
    "start_time": "2022-10-06T10:27:12.617Z"
   },
   {
    "duration": 13,
    "start_time": "2022-10-06T10:27:21.865Z"
   },
   {
    "duration": 3,
    "start_time": "2022-10-06T10:27:34.509Z"
   },
   {
    "duration": 39,
    "start_time": "2022-10-06T10:30:57.204Z"
   },
   {
    "duration": 165,
    "start_time": "2022-10-06T10:34:59.512Z"
   },
   {
    "duration": 82,
    "start_time": "2022-10-06T10:42:37.049Z"
   },
   {
    "duration": 153,
    "start_time": "2022-10-06T10:43:24.780Z"
   },
   {
    "duration": 147,
    "start_time": "2022-10-06T10:43:33.002Z"
   },
   {
    "duration": 148,
    "start_time": "2022-10-06T10:44:44.925Z"
   },
   {
    "duration": 134,
    "start_time": "2022-10-06T10:44:58.606Z"
   },
   {
    "duration": 242,
    "start_time": "2022-10-06T10:45:10.782Z"
   },
   {
    "duration": 164,
    "start_time": "2022-10-06T10:45:20.174Z"
   },
   {
    "duration": 151,
    "start_time": "2022-10-06T10:45:43.108Z"
   },
   {
    "duration": 160,
    "start_time": "2022-10-06T10:47:54.578Z"
   },
   {
    "duration": 158,
    "start_time": "2022-10-06T10:48:01.403Z"
   },
   {
    "duration": 142,
    "start_time": "2022-10-06T10:49:21.507Z"
   },
   {
    "duration": 147,
    "start_time": "2022-10-06T10:49:56.607Z"
   },
   {
    "duration": 82,
    "start_time": "2022-10-06T10:51:02.745Z"
   },
   {
    "duration": 677,
    "start_time": "2022-10-06T10:56:36.815Z"
   },
   {
    "duration": 606,
    "start_time": "2022-10-06T10:58:14.995Z"
   },
   {
    "duration": 775,
    "start_time": "2022-10-06T10:58:20.623Z"
   },
   {
    "duration": 685,
    "start_time": "2022-10-06T10:58:47.424Z"
   },
   {
    "duration": 671,
    "start_time": "2022-10-06T10:59:02.390Z"
   },
   {
    "duration": 685,
    "start_time": "2022-10-06T10:59:16.845Z"
   },
   {
    "duration": 680,
    "start_time": "2022-10-06T10:59:24.643Z"
   },
   {
    "duration": 690,
    "start_time": "2022-10-06T10:59:35.119Z"
   },
   {
    "duration": 56,
    "start_time": "2022-10-06T11:48:37.953Z"
   },
   {
    "duration": 33,
    "start_time": "2022-10-06T11:49:16.598Z"
   },
   {
    "duration": 95,
    "start_time": "2022-10-06T11:52:05.738Z"
   },
   {
    "duration": 6,
    "start_time": "2022-10-06T11:57:07.965Z"
   },
   {
    "duration": 4,
    "start_time": "2022-10-06T11:57:23.557Z"
   },
   {
    "duration": 6,
    "start_time": "2022-10-06T11:58:07.830Z"
   },
   {
    "duration": 4,
    "start_time": "2022-10-06T11:58:09.400Z"
   },
   {
    "duration": 955,
    "start_time": "2022-10-06T12:03:03.248Z"
   },
   {
    "duration": 6,
    "start_time": "2022-10-06T12:03:09.473Z"
   },
   {
    "duration": 6,
    "start_time": "2022-10-06T12:04:48.220Z"
   },
   {
    "duration": 153996,
    "start_time": "2022-10-06T12:05:06.934Z"
   },
   {
    "duration": 128,
    "start_time": "2022-10-06T12:07:40.932Z"
   },
   {
    "duration": 4,
    "start_time": "2022-10-06T12:09:35.033Z"
   },
   {
    "duration": 151989,
    "start_time": "2022-10-06T12:10:55.930Z"
   },
   {
    "duration": 149484,
    "start_time": "2022-10-06T12:14:46.205Z"
   },
   {
    "duration": 5,
    "start_time": "2022-10-06T12:59:41.688Z"
   },
   {
    "duration": 168794,
    "start_time": "2022-10-06T12:59:57.605Z"
   },
   {
    "duration": 11,
    "start_time": "2022-10-06T13:02:46.401Z"
   },
   {
    "duration": 2898,
    "start_time": "2022-10-06T13:02:46.421Z"
   },
   {
    "duration": 75666,
    "start_time": "2022-10-06T13:12:48.504Z"
   },
   {
    "duration": 359443,
    "start_time": "2022-10-06T13:14:09.780Z"
   },
   {
    "duration": 395,
    "start_time": "2022-10-06T13:24:57.350Z"
   },
   {
    "duration": 354881,
    "start_time": "2022-10-06T13:25:16.522Z"
   },
   {
    "duration": 124,
    "start_time": "2022-10-06T13:31:11.406Z"
   },
   {
    "duration": 0,
    "start_time": "2022-10-06T13:31:11.532Z"
   },
   {
    "duration": 0,
    "start_time": "2022-10-06T13:31:11.534Z"
   },
   {
    "duration": 459,
    "start_time": "2022-10-06T14:09:13.028Z"
   },
   {
    "duration": 422,
    "start_time": "2022-10-06T14:09:55.171Z"
   },
   {
    "duration": 35,
    "start_time": "2022-10-06T14:11:09.081Z"
   },
   {
    "duration": 446,
    "start_time": "2022-10-06T14:11:50.249Z"
   },
   {
    "duration": 34,
    "start_time": "2022-10-06T14:11:53.497Z"
   },
   {
    "duration": 625,
    "start_time": "2022-10-06T14:13:45.564Z"
   },
   {
    "duration": 73,
    "start_time": "2022-10-06T14:16:08.715Z"
   },
   {
    "duration": 768654,
    "start_time": "2022-10-06T14:16:19.280Z"
   },
   {
    "duration": 758,
    "start_time": "2022-10-06T14:29:07.936Z"
   },
   {
    "duration": 533,
    "start_time": "2022-10-06T14:30:54.065Z"
   },
   {
    "duration": 30,
    "start_time": "2022-10-06T14:36:03.117Z"
   },
   {
    "duration": 378,
    "start_time": "2022-10-06T14:37:16.341Z"
   },
   {
    "duration": 327,
    "start_time": "2022-10-06T14:39:03.747Z"
   },
   {
    "duration": 407,
    "start_time": "2022-10-06T14:39:53.888Z"
   },
   {
    "duration": 355,
    "start_time": "2022-10-06T14:40:26.992Z"
   },
   {
    "duration": 248,
    "start_time": "2022-10-06T14:41:40.843Z"
   },
   {
    "duration": 32,
    "start_time": "2022-10-06T14:44:30.987Z"
   },
   {
    "duration": 44,
    "start_time": "2022-10-06T14:45:20.057Z"
   },
   {
    "duration": 33,
    "start_time": "2022-10-06T14:45:50.528Z"
   },
   {
    "duration": 1742,
    "start_time": "2022-10-06T17:06:20.914Z"
   },
   {
    "duration": 79,
    "start_time": "2022-10-06T17:06:22.658Z"
   },
   {
    "duration": 13,
    "start_time": "2022-10-06T17:06:22.739Z"
   },
   {
    "duration": 16,
    "start_time": "2022-10-06T17:06:22.754Z"
   },
   {
    "duration": 10,
    "start_time": "2022-10-06T17:06:22.772Z"
   },
   {
    "duration": 9,
    "start_time": "2022-10-06T17:06:22.783Z"
   },
   {
    "duration": 21,
    "start_time": "2022-10-06T17:06:22.794Z"
   },
   {
    "duration": 13,
    "start_time": "2022-10-06T17:06:22.817Z"
   },
   {
    "duration": 61,
    "start_time": "2022-10-06T17:06:22.832Z"
   },
   {
    "duration": 4,
    "start_time": "2022-10-06T17:06:22.894Z"
   },
   {
    "duration": 18,
    "start_time": "2022-10-06T17:06:22.900Z"
   },
   {
    "duration": 55,
    "start_time": "2022-10-06T17:06:22.919Z"
   },
   {
    "duration": 173,
    "start_time": "2022-10-06T17:06:22.976Z"
   },
   {
    "duration": 655,
    "start_time": "2022-10-06T17:06:23.154Z"
   },
   {
    "duration": 32,
    "start_time": "2022-10-06T17:06:23.811Z"
   },
   {
    "duration": 302259,
    "start_time": "2022-10-06T17:06:23.855Z"
   },
   {
    "duration": 329,
    "start_time": "2022-10-06T17:11:26.116Z"
   },
   {
    "duration": 317,
    "start_time": "2022-10-06T17:11:26.447Z"
   },
   {
    "duration": 501,
    "start_time": "2022-10-06T17:11:26.855Z"
   },
   {
    "duration": 34,
    "start_time": "2022-10-06T17:11:27.358Z"
   },
   {
    "duration": 720845,
    "start_time": "2022-10-06T17:11:27.394Z"
   },
   {
    "duration": 480,
    "start_time": "2022-10-06T17:23:28.240Z"
   },
   {
    "duration": 337,
    "start_time": "2022-10-06T17:23:28.722Z"
   },
   {
    "duration": 1570,
    "start_time": "2022-10-07T05:03:33.970Z"
   },
   {
    "duration": 93,
    "start_time": "2022-10-07T05:03:35.542Z"
   },
   {
    "duration": 18,
    "start_time": "2022-10-07T05:03:35.636Z"
   },
   {
    "duration": 51,
    "start_time": "2022-10-07T05:03:35.657Z"
   },
   {
    "duration": 15,
    "start_time": "2022-10-07T05:03:35.709Z"
   },
   {
    "duration": 16,
    "start_time": "2022-10-07T05:03:35.726Z"
   },
   {
    "duration": 49,
    "start_time": "2022-10-07T05:03:35.744Z"
   },
   {
    "duration": 28,
    "start_time": "2022-10-07T05:03:35.795Z"
   },
   {
    "duration": 47,
    "start_time": "2022-10-07T05:03:35.824Z"
   },
   {
    "duration": 5,
    "start_time": "2022-10-07T05:03:35.874Z"
   },
   {
    "duration": 35,
    "start_time": "2022-10-07T05:03:35.880Z"
   },
   {
    "duration": 36,
    "start_time": "2022-10-07T05:03:35.917Z"
   },
   {
    "duration": 165,
    "start_time": "2022-10-07T05:03:35.955Z"
   },
   {
    "duration": 665,
    "start_time": "2022-10-07T05:03:36.121Z"
   },
   {
    "duration": 29,
    "start_time": "2022-10-07T05:03:36.788Z"
   },
   {
    "duration": 299765,
    "start_time": "2022-10-07T05:03:36.818Z"
   },
   {
    "duration": 325,
    "start_time": "2022-10-07T05:08:36.585Z"
   },
   {
    "duration": 655,
    "start_time": "2022-10-07T05:08:36.912Z"
   },
   {
    "duration": 495,
    "start_time": "2022-10-07T05:08:37.576Z"
   },
   {
    "duration": 30,
    "start_time": "2022-10-07T05:08:38.072Z"
   },
   {
    "duration": 745763,
    "start_time": "2022-10-07T05:08:38.104Z"
   },
   {
    "duration": 501,
    "start_time": "2022-10-07T05:21:03.869Z"
   },
   {
    "duration": 397,
    "start_time": "2022-10-07T05:21:04.372Z"
   },
   {
    "duration": 113,
    "start_time": "2022-10-07T05:21:04.775Z"
   },
   {
    "duration": 35,
    "start_time": "2022-10-07T05:26:30.145Z"
   },
   {
    "duration": 323,
    "start_time": "2022-10-07T05:26:40.346Z"
   },
   {
    "duration": 156,
    "start_time": "2022-10-07T05:26:47.209Z"
   },
   {
    "duration": 32,
    "start_time": "2022-10-07T05:28:04.723Z"
   },
   {
    "duration": 503,
    "start_time": "2022-10-07T05:28:10.512Z"
   },
   {
    "duration": 145,
    "start_time": "2022-10-07T05:28:16.116Z"
   },
   {
    "duration": 5,
    "start_time": "2022-10-07T05:35:00.698Z"
   },
   {
    "duration": 8,
    "start_time": "2022-10-07T06:45:02.131Z"
   },
   {
    "duration": 4,
    "start_time": "2022-10-07T06:54:51.774Z"
   },
   {
    "duration": 4,
    "start_time": "2022-10-07T07:04:11.321Z"
   },
   {
    "duration": 27,
    "start_time": "2022-10-07T07:04:46.508Z"
   },
   {
    "duration": 12,
    "start_time": "2022-10-07T07:12:56.554Z"
   },
   {
    "duration": 66,
    "start_time": "2022-10-07T07:13:35.594Z"
   },
   {
    "duration": 792,
    "start_time": "2022-10-07T07:14:38.338Z"
   },
   {
    "duration": 1120,
    "start_time": "2022-10-07T07:15:20.743Z"
   },
   {
    "duration": 4,
    "start_time": "2022-10-07T07:19:41.185Z"
   },
   {
    "duration": 6,
    "start_time": "2022-10-07T07:19:51.462Z"
   },
   {
    "duration": 5,
    "start_time": "2022-10-07T07:20:39.149Z"
   },
   {
    "duration": 12,
    "start_time": "2022-10-07T07:20:40.027Z"
   },
   {
    "duration": 1116,
    "start_time": "2022-10-07T07:20:41.701Z"
   },
   {
    "duration": 1124,
    "start_time": "2022-10-07T07:39:27.634Z"
   },
   {
    "duration": 1083,
    "start_time": "2022-10-07T07:42:39.925Z"
   },
   {
    "duration": 6,
    "start_time": "2022-10-07T07:43:05.478Z"
   },
   {
    "duration": 1081,
    "start_time": "2022-10-07T07:43:39.237Z"
   },
   {
    "duration": 31,
    "start_time": "2022-10-07T07:44:50.012Z"
   },
   {
    "duration": 372954,
    "start_time": "2022-10-07T11:33:36.656Z"
   },
   {
    "duration": 1481504,
    "start_time": "2022-10-07T11:40:28.026Z"
   },
   {
    "duration": 2560,
    "start_time": "2022-10-07T13:04:02.941Z"
   },
   {
    "duration": 7951,
    "start_time": "2022-10-07T13:04:33.005Z"
   },
   {
    "duration": 1186,
    "start_time": "2022-10-07T13:05:22.021Z"
   },
   {
    "duration": 460,
    "start_time": "2022-10-07T13:43:23.030Z"
   },
   {
    "duration": 462,
    "start_time": "2022-10-07T13:43:49.307Z"
   },
   {
    "duration": 606,
    "start_time": "2022-10-07T13:45:25.359Z"
   },
   {
    "duration": 490,
    "start_time": "2022-10-07T13:48:33.971Z"
   },
   {
    "duration": 396,
    "start_time": "2022-10-07T13:50:21.565Z"
   },
   {
    "duration": 53,
    "start_time": "2022-10-07T14:10:32.917Z"
   },
   {
    "duration": 17,
    "start_time": "2022-10-07T14:12:26.266Z"
   },
   {
    "duration": 8,
    "start_time": "2022-10-07T14:16:50.423Z"
   },
   {
    "duration": 11,
    "start_time": "2022-10-07T14:17:24.931Z"
   },
   {
    "duration": 11,
    "start_time": "2022-10-07T16:01:25.260Z"
   },
   {
    "duration": 5,
    "start_time": "2022-10-07T16:06:53.226Z"
   },
   {
    "duration": 11,
    "start_time": "2022-10-07T16:09:14.339Z"
   },
   {
    "duration": 328,
    "start_time": "2022-10-07T16:12:01.864Z"
   },
   {
    "duration": 30,
    "start_time": "2022-10-07T16:13:13.494Z"
   },
   {
    "duration": 37,
    "start_time": "2022-10-07T16:15:04.976Z"
   },
   {
    "duration": 27,
    "start_time": "2022-10-07T16:16:07.306Z"
   },
   {
    "duration": 403554,
    "start_time": "2022-10-07T16:17:44.790Z"
   },
   {
    "duration": 36,
    "start_time": "2022-10-07T16:24:36.179Z"
   },
   {
    "duration": 32,
    "start_time": "2022-10-07T16:25:45.779Z"
   },
   {
    "duration": 33,
    "start_time": "2022-10-07T16:27:24.100Z"
   },
   {
    "duration": 28,
    "start_time": "2022-10-07T16:30:06.276Z"
   },
   {
    "duration": 401763,
    "start_time": "2022-10-07T16:31:45.977Z"
   },
   {
    "duration": 24,
    "start_time": "2022-10-07T16:39:15.096Z"
   },
   {
    "duration": 23,
    "start_time": "2022-10-07T16:39:25.970Z"
   },
   {
    "duration": 42,
    "start_time": "2022-10-07T16:41:14.275Z"
   },
   {
    "duration": 32,
    "start_time": "2022-10-07T16:41:40.971Z"
   },
   {
    "duration": 447,
    "start_time": "2022-10-07T16:41:53.411Z"
   },
   {
    "duration": 360,
    "start_time": "2022-10-07T16:44:48.001Z"
   },
   {
    "duration": 11,
    "start_time": "2022-10-07T16:52:26.603Z"
   },
   {
    "duration": 11,
    "start_time": "2022-10-07T16:52:59.600Z"
   },
   {
    "duration": 4,
    "start_time": "2022-10-07T16:56:42.606Z"
   },
   {
    "duration": 5,
    "start_time": "2022-10-07T16:57:03.679Z"
   },
   {
    "duration": 5,
    "start_time": "2022-10-07T17:00:41.175Z"
   },
   {
    "duration": 12,
    "start_time": "2022-10-07T17:08:08.848Z"
   },
   {
    "duration": 61,
    "start_time": "2022-10-07T17:12:47.541Z"
   },
   {
    "duration": 52,
    "start_time": "2022-10-07T17:14:35.789Z"
   },
   {
    "duration": 34,
    "start_time": "2022-10-07T17:19:27.491Z"
   },
   {
    "duration": 571,
    "start_time": "2022-10-07T17:20:11.342Z"
   },
   {
    "duration": 212,
    "start_time": "2022-10-07T17:20:34.943Z"
   },
   {
    "duration": 196,
    "start_time": "2022-10-07T17:23:48.459Z"
   },
   {
    "duration": 233,
    "start_time": "2022-10-07T17:25:41.355Z"
   },
   {
    "duration": 174,
    "start_time": "2022-10-07T17:26:14.687Z"
   },
   {
    "duration": 202,
    "start_time": "2022-10-07T17:27:05.324Z"
   },
   {
    "duration": 181,
    "start_time": "2022-10-07T17:30:30.672Z"
   },
   {
    "duration": 451,
    "start_time": "2022-10-07T17:37:38.939Z"
   },
   {
    "duration": 560,
    "start_time": "2022-10-07T17:38:37.115Z"
   },
   {
    "duration": 553,
    "start_time": "2022-10-07T17:38:58.668Z"
   },
   {
    "duration": 544,
    "start_time": "2022-10-07T17:39:27.783Z"
   },
   {
    "duration": 528,
    "start_time": "2022-10-07T17:39:37.886Z"
   },
   {
    "duration": 508,
    "start_time": "2022-10-07T17:42:20.936Z"
   },
   {
    "duration": 523,
    "start_time": "2022-10-07T17:43:25.945Z"
   },
   {
    "duration": 9,
    "start_time": "2022-10-07T17:44:26.603Z"
   },
   {
    "duration": 6,
    "start_time": "2022-10-07T17:46:36.816Z"
   },
   {
    "duration": 8,
    "start_time": "2022-10-07T17:48:02.506Z"
   },
   {
    "duration": 13,
    "start_time": "2022-10-07T17:49:58.982Z"
   },
   {
    "duration": 9,
    "start_time": "2022-10-07T17:51:12.335Z"
   },
   {
    "duration": 79,
    "start_time": "2022-10-07T17:59:45.886Z"
   },
   {
    "duration": 183,
    "start_time": "2022-10-07T18:00:50.577Z"
   },
   {
    "duration": 1696,
    "start_time": "2022-10-08T17:43:11.152Z"
   },
   {
    "duration": 81,
    "start_time": "2022-10-08T17:43:12.850Z"
   },
   {
    "duration": 12,
    "start_time": "2022-10-08T17:43:12.933Z"
   },
   {
    "duration": 15,
    "start_time": "2022-10-08T17:43:13.359Z"
   }
  ],
  "kernelspec": {
   "display_name": "Python 3 (ipykernel)",
   "language": "python",
   "name": "python3"
  },
  "language_info": {
   "codemirror_mode": {
    "name": "ipython",
    "version": 3
   },
   "file_extension": ".py",
   "mimetype": "text/x-python",
   "name": "python",
   "nbconvert_exporter": "python",
   "pygments_lexer": "ipython3",
   "version": "3.9.7"
  },
  "toc": {
   "base_numbering": 1,
   "nav_menu": {},
   "number_sections": true,
   "sideBar": true,
   "skip_h1_title": true,
   "title_cell": "Содержание",
   "title_sidebar": "Contents",
   "toc_cell": true,
   "toc_position": {
    "height": "calc(100% - 180px)",
    "left": "10px",
    "top": "150px",
    "width": "287.628px"
   },
   "toc_section_display": true,
   "toc_window_display": true
  }
 },
 "nbformat": 4,
 "nbformat_minor": 2
}
